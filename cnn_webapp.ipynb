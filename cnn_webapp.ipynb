{
  "nbformat": 4,
  "nbformat_minor": 0,
  "metadata": {
    "colab": {
      "provenance": []
    },
    "kernelspec": {
      "name": "python3",
      "display_name": "Python 3"
    },
    "language_info": {
      "name": "python"
    }
  },
  "cells": [
    {
      "cell_type": "code",
      "execution_count": null,
      "metadata": {
        "id": "hyOjPtKHlpjk"
      },
      "outputs": [],
      "source": [
        "from google.colab import drive\n",
        "drive.mount('/content/gdrive',force_remount= False)"
      ]
    },
    {
      "cell_type": "code",
      "source": [
        "!pip install streamlit"
      ],
      "metadata": {
        "id": "PwGMBn6Hlw0B"
      },
      "execution_count": null,
      "outputs": []
    },
    {
      "cell_type": "code",
      "source": [
        "%%writefile cnn_app.py\n",
        "import streamlit as st\n",
        "from PIL import Image\n",
        "from keras.preprocessing.image import load_img,img_to_array\n",
        "import numpy as np\n",
        "from keras.models import load_model\n",
        "import tensorflow as tf\n",
        "\n",
        "model = tf.keras.models.load_model(r'')\n",
        "lab = {0:'MildDemented',1:'ModerateDemented',2:'NonDemented',3:'VeryMildDemented'}\n",
        "\n",
        "def processed_img(img_path):\n",
        "    img=load_img(img_path,target_size=(128,128,3))\n",
        "    img=img_to_array(img)\n",
        "    img=img/255\n",
        "    img=np.expand_dims(img,[0])\n",
        "    answer=model.predict(img)\n",
        "    y_class = answer.argmax(axis=-1)\n",
        "    print(y_class)\n",
        "    y = \" \".join(str(x) for x in y_class)\n",
        "    y = int(y)\n",
        "    res = lab[y]\n",
        "    print(res)\n",
        "    return res\n",
        "\n",
        "def run():\n",
        "    #img1 = Image.open('./meta/logo1.png')\n",
        "    #img1 = img1.resize((350,350))\n",
        "    #st.image(img1,use_column_width=False)\n",
        "    st.title(\"Alzheimer's Disease MRI Classification\")\n",
        "    st.markdown('''<h4 style='text-align: left; color: #808080;'>The objective of this project is to develop a deep learning model for detecting four forms of Alzheimer’s disease based on MRI scans of the brain(Mild Demented, Non-Demented, Very Mild Demented and Moderate Demented).</h4>''',\n",
        "                unsafe_allow_html=True)\n",
        "\n",
        "    img_file = st.file_uploader(\"Choose a MRI image\", type=[\"jpg\", \"png\"])\n",
        "    if img_file is not None:\n",
        "        st.image(img_file,use_column_width=False)\n",
        "        save_image_path = '/content/gdrive/MyDrive/alzheimer_kaggle/upload_images'+img_file.name\n",
        "        with open(save_image_path, \"wb\") as f:\n",
        "            f.write(img_file.getbuffer())\n",
        "\n",
        "        if st.button(\"Predict\"):\n",
        "            result = processed_img(save_image_path)\n",
        "            st.success(\"Predicted Status of MRI scan of Brain is: \"+result)\n",
        "run()"
      ],
      "metadata": {
        "id": "Tf0Z-Ufhlw2W"
      },
      "execution_count": null,
      "outputs": []
    },
    {
      "cell_type": "code",
      "source": [
        "!streamlit run vgg_app.py & npx localtunnel --port 8501"
      ],
      "metadata": {
        "id": "aPWZwa2alw4o"
      },
      "execution_count": null,
      "outputs": []
    },
    {
      "cell_type": "code",
      "source": [],
      "metadata": {
        "id": "Y9u6sHiglw63"
      },
      "execution_count": null,
      "outputs": []
    },
    {
      "cell_type": "code",
      "source": [],
      "metadata": {
        "id": "hmF06Gmelw9R"
      },
      "execution_count": null,
      "outputs": []
    },
    {
      "cell_type": "code",
      "source": [],
      "metadata": {
        "id": "5FG0dfcwlw_2"
      },
      "execution_count": null,
      "outputs": []
    },
    {
      "cell_type": "code",
      "source": [],
      "metadata": {
        "id": "Au1t1yZ8lxCI"
      },
      "execution_count": null,
      "outputs": []
    },
    {
      "cell_type": "code",
      "source": [],
      "metadata": {
        "id": "thM7sEB8lxFu"
      },
      "execution_count": null,
      "outputs": []
    }
  ]
}