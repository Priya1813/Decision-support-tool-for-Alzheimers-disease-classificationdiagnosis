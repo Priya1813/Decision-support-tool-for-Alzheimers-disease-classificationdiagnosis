{
  "metadata": {
    "kernelspec": {
      "language": "python",
      "display_name": "Python 3",
      "name": "python3"
    },
    "language_info": {
      "name": "python",
      "version": "3.7.12",
      "mimetype": "text/x-python",
      "codemirror_mode": {
        "name": "ipython",
        "version": 3
      },
      "pygments_lexer": "ipython3",
      "nbconvert_exporter": "python",
      "file_extension": ".py"
    },
    "colab": {
      "provenance": []
    }
  },
  "nbformat_minor": 0,
  "nbformat": 4,
  "cells": [
    {
      "cell_type": "code",
      "source": [
        "# This Python 3 environment comes with many helpful analytics libraries installed\n",
        "# It is defined by the kaggle/python Docker image: https://github.com/kaggle/docker-python\n",
        "# For example, here's several helpful packages to load\n",
        "\n",
        "import numpy as np # linear algebra\n",
        "import pandas as pd # data processing, CSV file I/O (e.g. pd.read_csv)\n",
        "\n",
        "# Input data files are available in the read-only \"../input/\" directory\n",
        "# For example, running this (by clicking run or pressing Shift+Enter) will list all files under the input directory\n",
        "\n",
        "import os\n",
        "for dirname, _, filenames in os.walk('/kaggle/input'):\n",
        "    for filename in filenames:\n",
        "        print(os.path.join(dirname, filename))\n",
        "\n",
        "# You can write up to 20GB to the current directory (/kaggle/working/) that gets preserved as output when you create a version using \"Save & Run All\" \n",
        "# You can also write temporary files to /kaggle/temp/, but they won't be saved outside of the current session"
      ],
      "metadata": {
        "_uuid": "8f2839f25d086af736a60e9eeb907d3b93b6e0e5",
        "_cell_guid": "b1076dfc-b9ad-4769-8c92-a6c4dae69d19",
        "editable": false,
        "trusted": true,
        "id": "5tQJVbCN6INP"
      },
      "execution_count": null,
      "outputs": []
    },
    {
      "cell_type": "code",
      "source": [
        "!python --version"
      ],
      "metadata": {
        "editable": false,
        "trusted": true,
        "id": "n1Fw-io06INR"
      },
      "execution_count": null,
      "outputs": []
    },
    {
      "cell_type": "code",
      "source": [
        "print(tf.__version__)\n",
        "print(keras.__version__)"
      ],
      "metadata": {
        "editable": false,
        "trusted": true,
        "id": "NaIGMqn26INS"
      },
      "execution_count": null,
      "outputs": []
    },
    {
      "cell_type": "code",
      "source": [
        "train_path = \"../input/alzheimers-dataset-4-class-of-images/Alzheimer_s Dataset/train\"\n",
        "test_path = \"../input/alzheimers-dataset-4-class-of-images/Alzheimer_s Dataset/test\""
      ],
      "metadata": {
        "editable": false,
        "trusted": true,
        "id": "8RLRGaRX6INS"
      },
      "execution_count": null,
      "outputs": []
    },
    {
      "cell_type": "code",
      "source": [
        "train_batches = ImageDataGenerator(validation_split=0.1) \\\n",
        "                .flow_from_directory(directory=train_path,  \n",
        "                                     classes = ['NonDemented', 'VeryMildDemented', \n",
        "                                                'MildDemented', 'ModerateDemented'], \n",
        "                                     subset='training',\n",
        "                                     batch_size=10)\n",
        "\n",
        "validation_batches = ImageDataGenerator(validation_split=0.1) \\\n",
        "                     .flow_from_directory(directory=train_path, \n",
        "                                          classes = ['NonDemented', 'VeryMildDemented', \n",
        "                                                     'MildDemented', 'ModerateDemented'], \n",
        "                                          subset='validation',\n",
        "                                          batch_size=10)\n",
        "                \n",
        "test_batches = ImageDataGenerator() \\\n",
        "                    .flow_from_directory(directory=test_path, \n",
        "                                         classes = ['NonDemented', 'VeryMildDemented', \n",
        "                                                    'MildDemented', 'ModerateDemented'], \n",
        "                                         batch_size=10, \n",
        "                                         shuffle=False)"
      ],
      "metadata": {
        "editable": false,
        "trusted": true,
        "id": "OjHjLng66INS"
      },
      "execution_count": null,
      "outputs": []
    },
    {
      "cell_type": "code",
      "source": [
        "data = {'NonDemented':      0, \n",
        "        'VeryMildDemented': 0, \n",
        "        'MildDemented':     0,\n",
        "        'ModerateDemented': 0}\n",
        "\n",
        "for cls in os.listdir(train_path):\n",
        "    for img in os.listdir(train_path + '/' + cls):\n",
        "        data[cls] = data[cls] + 1\n",
        "\n",
        "keys = list(data.keys())\n",
        "values = list(data.values())\n",
        "  \n",
        "fig = plt.figure(figsize = (10, 5))\n",
        " \n",
        "plt.bar(keys, values, color=(0.2, 0.4, 0.6, 0.6), width = 0.4)"
      ],
      "metadata": {
        "editable": false,
        "trusted": true,
        "id": "-1JAviI56INT"
      },
      "execution_count": null,
      "outputs": []
    },
    {
      "cell_type": "markdown",
      "source": [
        "Data Preprocessing"
      ],
      "metadata": {
        "id": "hse1_tVV6INU"
      }
    },
    {
      "cell_type": "code",
      "source": [],
      "metadata": {
        "editable": false,
        "id": "Vy6sbPCh6INW"
      },
      "execution_count": null,
      "outputs": []
    },
    {
      "cell_type": "code",
      "source": [],
      "metadata": {
        "editable": false,
        "id": "LpeubjCH6INW"
      },
      "execution_count": null,
      "outputs": []
    },
    {
      "cell_type": "code",
      "source": [],
      "metadata": {
        "editable": false,
        "id": "8NptCafq6INX"
      },
      "execution_count": null,
      "outputs": []
    },
    {
      "cell_type": "code",
      "source": [],
      "metadata": {
        "editable": false,
        "id": "eMs6MgZy6INX"
      },
      "execution_count": null,
      "outputs": []
    },
    {
      "cell_type": "code",
      "source": [],
      "metadata": {
        "editable": false,
        "id": "wZPINK_g6INX"
      },
      "execution_count": null,
      "outputs": []
    },
    {
      "cell_type": "code",
      "source": [],
      "metadata": {
        "editable": false,
        "id": "Fr0zI0B56INY"
      },
      "execution_count": null,
      "outputs": []
    },
    {
      "cell_type": "code",
      "source": [],
      "metadata": {
        "editable": false,
        "id": "a6H6bTt-6INY"
      },
      "execution_count": null,
      "outputs": []
    },
    {
      "cell_type": "code",
      "source": [
        "IMG_SIZE = 224\n",
        "n_classes = 4\n",
        "\n",
        "model = Sequential([layers.Resizing(IMG_SIZE, IMG_SIZE),\n",
        "                    layers.Rescaling(1./255),\n",
        "                    layers.Conv2D(filters=32, kernel_size=(3, 3), activation='relu', \n",
        "                                  padding = 'same', input_shape=(IMG_SIZE,IMG_SIZE,3)),\n",
        "                    layers.BatchNormalization(),\n",
        "                    layers.MaxPool2D(pool_size=(2, 2)),\n",
        "                    layers.Conv2D(filters=64, kernel_size=(3, 3), \n",
        "                                  activation='relu', padding = 'same'),\n",
        "                    layers.BatchNormalization(),\n",
        "                    layers.MaxPool2D(pool_size=(2, 2)),\n",
        "                    layers.Conv2D(filters=128, kernel_size=(3, 3), \n",
        "                                  activation='relu', padding = 'same'),\n",
        "                    layers.BatchNormalization(),\n",
        "                    layers.MaxPool2D(pool_size=(2, 2)),\n",
        "                    layers.Conv2D(filters=256, kernel_size=(3, 3), \n",
        "                                  activation='relu', padding = 'same'),\n",
        "                    layers.BatchNormalization(),\n",
        "                    layers.MaxPool2D(pool_size=(2, 2)),\n",
        "                    layers.Flatten(),\n",
        "                    layers.Dense(300, activation='relu'),\n",
        "                    layers.Dense(150, activation='relu'),\n",
        "                    layers.Dropout(0.25),\n",
        "                    layers.Dense(n_classes, activation='softmax')])\n"
      ],
      "metadata": {
        "editable": false,
        "trusted": true,
        "id": "NKP7h9WP6INY"
      },
      "execution_count": null,
      "outputs": []
    },
    {
      "cell_type": "code",
      "source": [
        "METRICS = [keras.metrics.CategoricalAccuracy(name='accuracy'),\n",
        "           keras.metrics.Precision(name='precision'),\n",
        "           keras.metrics.Recall(name='recall'),\n",
        "           keras.metrics.AUC(name='auc')]"
      ],
      "metadata": {
        "editable": false,
        "trusted": true,
        "id": "0r_ORT8K6INZ"
      },
      "execution_count": null,
      "outputs": []
    },
    {
      "cell_type": "code",
      "source": [
        "model.compile(optimizer=tf.keras.optimizers.Adam(learning_rate=0.0001), \n",
        "              loss='categorical_crossentropy', \n",
        "              metrics=METRICS)"
      ],
      "metadata": {
        "editable": false,
        "trusted": true,
        "id": "4on_UMuo6INa"
      },
      "execution_count": null,
      "outputs": []
    },
    {
      "cell_type": "code",
      "source": [
        "EPOCHS = 50\n",
        "BATCH_SIZE = 8"
      ],
      "metadata": {
        "editable": false,
        "trusted": true,
        "id": "4EuSswNL6INa"
      },
      "execution_count": null,
      "outputs": []
    },
    {
      "cell_type": "code",
      "source": [
        "history = model.fit(x=train_batches,\n",
        "                    validation_data=validation_batches,\n",
        "                    steps_per_epoch=len(train_batches),\n",
        "                    validation_steps=len(validation_batches),\n",
        "                    epochs=EPOCHS,\n",
        "                    batch_size=BATCH_SIZE, \n",
        "                    verbose=2)"
      ],
      "metadata": {
        "editable": false,
        "trusted": true,
        "id": "DYTBQO526INa"
      },
      "execution_count": null,
      "outputs": []
    },
    {
      "cell_type": "code",
      "source": [
        "model.summary()"
      ],
      "metadata": {
        "editable": false,
        "trusted": true,
        "id": "2YG3YsFV6INb"
      },
      "execution_count": null,
      "outputs": []
    },
    {
      "cell_type": "code",
      "source": [
        "def plot_loss(history, n):\n",
        "    plt.semilogy(history.epoch, history.history['loss'], label='Train')\n",
        "    plt.semilogy(history.epoch, history.history['val_loss'], label='Validation')\n",
        "    plt.xlabel('Epoch')\n",
        "    plt.ylabel('Loss')"
      ],
      "metadata": {
        "editable": false,
        "trusted": true,
        "id": "KYB6IjW96INb"
      },
      "execution_count": null,
      "outputs": []
    },
    {
      "cell_type": "code",
      "source": [
        "plot_loss(history, 0)"
      ],
      "metadata": {
        "editable": false,
        "trusted": true,
        "id": "LnDzKzJk6INb"
      },
      "execution_count": null,
      "outputs": []
    },
    {
      "cell_type": "code",
      "source": [
        "results = model.evaluate(test_batches, verbose=0)\n",
        "\n",
        "for name, value in zip(model.metrics_names, results):\n",
        "    print(name, ': ', value)"
      ],
      "metadata": {
        "editable": false,
        "trusted": true,
        "id": "fxT5nCP86INc"
      },
      "execution_count": null,
      "outputs": []
    },
    {
      "cell_type": "code",
      "source": [],
      "metadata": {
        "editable": false,
        "id": "GfQK3zYA6INc"
      },
      "execution_count": null,
      "outputs": []
    }
  ]
}