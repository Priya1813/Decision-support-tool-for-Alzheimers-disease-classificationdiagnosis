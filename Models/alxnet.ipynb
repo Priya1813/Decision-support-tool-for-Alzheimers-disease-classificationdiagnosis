{
  "nbformat": 4,
  "nbformat_minor": 0,
  "metadata": {
    "colab": {
      "provenance": [],
      "collapsed_sections": []
    },
    "kernelspec": {
      "name": "python3",
      "display_name": "Python 3"
    },
    "language_info": {
      "name": "python"
    },
    "accelerator": "GPU"
  },
  "cells": [
    {
      "cell_type": "code",
      "execution_count": null,
      "metadata": {
        "id": "pe6-PrByaZRU"
      },
      "outputs": [],
      "source": [
        "import numpy as np # linear algebra\n",
        "import pandas as pd # data processing, CSV file I/O (e.g. pd.read_csv)\n",
        "import os\n",
        "import copy\n",
        "import warnings\n",
        "warnings.filterwarnings('ignore')\n",
        "import cv2\n",
        "import keras\n",
        "from keras.preprocessing.image import ImageDataGenerator\n",
        "from keras.preprocessing.image import load_img, img_to_array\n",
        "import matplotlib\n",
        "import matplotlib.pylab as plt\n",
        "import numpy as np\n",
        "import seaborn as sns\n",
        "from sklearn.utils import shuffle\n",
        "from sklearn.metrics import confusion_matrix\n",
        "from sklearn.metrics import accuracy_score\n",
        "from sklearn.metrics import classification_report\n",
        "from sklearn.metrics import f1_score\n",
        "from sklearn.model_selection import train_test_split"
      ]
    },
    {
      "cell_type": "code",
      "source": [
        "from google.colab import drive\n",
        "drive.mount('/content/gdrive',force_remount= False)"
      ],
      "metadata": {
        "id": "1jkk4a2faeJ5",
        "colab": {
          "base_uri": "https://localhost:8080/"
        },
        "outputId": "774b0b3d-8d10-409a-b5a3-6a52fb0ede73"
      },
      "execution_count": null,
      "outputs": [
        {
          "output_type": "stream",
          "name": "stdout",
          "text": [
            "Mounted at /content/gdrive\n"
          ]
        }
      ]
    },
    {
      "cell_type": "code",
      "source": [
        "train_path = \"/content/drive/MyDrive/alzheimer_kaggle/AlzheimerDataset/train\"\n",
        "test_path = \"/content/drive/MyDrive/alzheimer_kaggle/AlzheimerDataset/test\""
      ],
      "metadata": {
        "id": "zxemCY-eaeMC"
      },
      "execution_count": null,
      "outputs": []
    },
    {
      "cell_type": "code",
      "source": [
        "W = 224\n",
        "H = 224\n",
        "#168\n",
        "\n",
        "label_to_class = {\n",
        "    'MildDemented': 0,\n",
        "    'ModerateDemented': 1,\n",
        "    'NonDemented': 2,\n",
        "    'VeryMildDemented':3\n",
        "    \n",
        "}\n",
        "class_to_label = {v: k for k, v in label_to_class.items()}\n",
        "n_classes = len(label_to_class)\n",
        "\n",
        "def get_images(dir_name=\"/content/gdrive/MyDrive/alzheimer_kaggle/AlzheimerDataset\", label_to_class=label_to_class):\n",
        "    \"\"\"read images / labels from directory\"\"\"\n",
        "    \n",
        "    Images = []\n",
        "    Classes = []\n",
        "    \n",
        "    for j in ['/train','/test']:\n",
        "        for label_name in os.listdir(dir_name+str(j)):\n",
        "            cls = label_to_class[label_name]\n",
        "\n",
        "            for img_name in os.listdir('/'.join([dir_name+str(j), label_name])):\n",
        "                img = load_img('/'.join([dir_name+str(j), label_name, img_name]), target_size=(W, H))\n",
        "                img = img_to_array(img)\n",
        "\n",
        "                Images.append(img)\n",
        "                Classes.append(cls)\n",
        "            \n",
        "    Images = np.array(Images, dtype=np.float32)\n",
        "    Classes = np.array(Classes, dtype=np.float32)\n",
        "    Images, Classes = shuffle(Images, Classes, random_state=0)\n",
        "    \n",
        "    return Images, Classes\n",
        "    "
      ],
      "metadata": {
        "id": "Xp-40tUzaePg"
      },
      "execution_count": null,
      "outputs": []
    },
    {
      "cell_type": "code",
      "source": [
        "## get images / labels\n",
        "Images, Classes = get_images()\n",
        "\n",
        "Images.shape, Classes.shape"
      ],
      "metadata": {
        "id": "pDraKcvjamPX",
        "colab": {
          "base_uri": "https://localhost:8080/"
        },
        "outputId": "91a47d3f-65ca-4ebf-fe84-4cacf7f534a4"
      },
      "execution_count": null,
      "outputs": [
        {
          "output_type": "execute_result",
          "data": {
            "text/plain": [
              "((6395, 224, 224, 3), (6395,))"
            ]
          },
          "metadata": {},
          "execution_count": 5
        }
      ]
    },
    {
      "cell_type": "code",
      "source": [
        "## split train / test\n",
        "\n",
        "indices_train, indices_test = train_test_split(list(range(Images.shape[0])), train_size=0.8, test_size=0.2, shuffle=False)\n",
        "\n",
        "x_train = Images[indices_train]\n",
        "y_train = Classes[indices_train]\n",
        "x_test = Images[indices_test]\n",
        "y_test = Classes[indices_test]\n",
        "\n",
        "x_train.shape, y_train.shape, x_test.shape, y_test.shape"
      ],
      "metadata": {
        "id": "kTSXTdgCamRg",
        "colab": {
          "base_uri": "https://localhost:8080/"
        },
        "outputId": "b78749fc-3d57-4ee9-81ef-8671d163c60e"
      },
      "execution_count": null,
      "outputs": [
        {
          "output_type": "execute_result",
          "data": {
            "text/plain": [
              "((5116, 224, 224, 3), (5116,), (1279, 224, 224, 3), (1279,))"
            ]
          },
          "metadata": {},
          "execution_count": 6
        }
      ]
    },
    {
      "cell_type": "code",
      "source": [
        "from keras.utils import np_utils\n",
        "## to one-hot\n",
        "\n",
        "y_train = keras.utils.np_utils.to_categorical(y_train, n_classes)\n",
        "y_test = keras.utils.np_utils.to_categorical(y_test, n_classes)\n",
        "\n",
        "y_train.shape, y_test.shape"
      ],
      "metadata": {
        "id": "MERBRZ-xamVB",
        "colab": {
          "base_uri": "https://localhost:8080/"
        },
        "outputId": "fed93a5a-3ffd-4a9a-fd09-f15d7e84e7f3"
      },
      "execution_count": null,
      "outputs": [
        {
          "output_type": "execute_result",
          "data": {
            "text/plain": [
              "((5116, 4), (1279, 4))"
            ]
          },
          "metadata": {},
          "execution_count": 7
        }
      ]
    },
    {
      "cell_type": "code",
      "source": [
        "## to image data generator\n",
        "from keras.applications.resnet import ResNet50,preprocess_input\n",
        "\n",
        "datagen_train = ImageDataGenerator(\n",
        "    preprocessing_function=preprocess_input, # image preprocessing function\n",
        "    rotation_range=30,                       # randomly rotate images in the range\n",
        "    width_shift_range=0.1,                   # randomly shift images horizontally\n",
        "    height_shift_range=0.1,                  # randomly shift images vertically\n",
        "    horizontal_flip=True,                    # randomly flip images horizontally\n",
        "    vertical_flip=False,                     # randomly flip images vertically\n",
        ")\n",
        "datagen_test = ImageDataGenerator(\n",
        "    preprocessing_function=preprocess_input, # image preprocessing function\n",
        ")"
      ],
      "metadata": {
        "id": "3XfRh9x2arbT"
      },
      "execution_count": null,
      "outputs": []
    },
    {
      "cell_type": "code",
      "source": [
        "import tensorflow as tf\n",
        "import matplotlib.pyplot as plt\n",
        "from tqdm import tqdm\n",
        "\n",
        "from tensorflow.keras import Model\n",
        "from tensorflow.keras.models import Sequential\n",
        "from tensorflow.keras.layers import Dense, Flatten, Conv2D, MaxPooling2D, Dropout\n",
        "np.random.seed(1000)\n",
        "\n",
        "# AlexNet model\n",
        "class AlexNet(Sequential):\n",
        "    def __init__(self, input_shape, num_classes):\n",
        "        super().__init__()\n",
        "\n",
        "        self.add(Conv2D(96, kernel_size=(11,11), strides= 4,\n",
        "                        padding= 'valid', activation= 'relu',\n",
        "                        input_shape= input_shape,\n",
        "                        kernel_initializer= 'he_normal'))\n",
        "        self.add(MaxPooling2D(pool_size=(3,3), strides= (2,2),\n",
        "                              padding= 'valid', data_format= None))\n",
        "\n",
        "        self.add(Conv2D(256, kernel_size=(5,5), strides= 1,\n",
        "                        padding= 'same', activation= 'relu',\n",
        "                        kernel_initializer= 'he_normal'))\n",
        "        self.add(MaxPooling2D(pool_size=(3,3), strides= (2,2),\n",
        "                              padding= 'valid', data_format= None)) \n",
        "\n",
        "        self.add(Conv2D(384, kernel_size=(3,3), strides= 1,\n",
        "                        padding= 'same', activation= 'relu',\n",
        "                        kernel_initializer= 'he_normal'))\n",
        "\n",
        "        self.add(Conv2D(384, kernel_size=(3,3), strides= 1,\n",
        "                        padding= 'same', activation= 'relu',\n",
        "                        kernel_initializer= 'he_normal'))\n",
        "\n",
        "        self.add(Conv2D(256, kernel_size=(3,3), strides= 1,\n",
        "                        padding= 'same', activation= 'relu',\n",
        "                        kernel_initializer= 'he_normal'))\n",
        "\n",
        "        self.add(MaxPooling2D(pool_size=(3,3), strides= (2,2),\n",
        "                              padding= 'valid', data_format= None))\n",
        "\n",
        "        self.add(Flatten())\n",
        "        self.add(Dense(4096, activation= 'relu'))\n",
        "        self.add(Dense(4096, activation= 'relu'))\n",
        "        self.add(Dense(1000, activation= 'relu'))\n",
        "        self.add(Dense(num_classes, activation= 'softmax'))\n",
        "\n",
        "        self.compile(optimizer= tf.keras.optimizers.Adam(0.001),\n",
        "                    loss='categorical_crossentropy',\n",
        "                    metrics=['accuracy'])"
      ],
      "metadata": {
        "id": "QVJaO6wCardh"
      },
      "execution_count": null,
      "outputs": []
    },
    {
      "cell_type": "code",
      "source": [
        "num_classes = y_train.shape[1]\n",
        "model = AlexNet((W,H,3), num_classes)\n",
        "model.summary()"
      ],
      "metadata": {
        "id": "sTe9f8djarg8",
        "colab": {
          "base_uri": "https://localhost:8080/"
        },
        "outputId": "8d63926c-39e3-4dc5-9a14-1f31409104e3"
      },
      "execution_count": null,
      "outputs": [
        {
          "output_type": "stream",
          "name": "stdout",
          "text": [
            "Model: \"alex_net\"\n",
            "_________________________________________________________________\n",
            " Layer (type)                Output Shape              Param #   \n",
            "=================================================================\n",
            " conv2d (Conv2D)             (None, 54, 54, 96)        34944     \n",
            "                                                                 \n",
            " max_pooling2d (MaxPooling2D  (None, 26, 26, 96)       0         \n",
            " )                                                               \n",
            "                                                                 \n",
            " conv2d_1 (Conv2D)           (None, 26, 26, 256)       614656    \n",
            "                                                                 \n",
            " max_pooling2d_1 (MaxPooling  (None, 12, 12, 256)      0         \n",
            " 2D)                                                             \n",
            "                                                                 \n",
            " conv2d_2 (Conv2D)           (None, 12, 12, 384)       885120    \n",
            "                                                                 \n",
            " conv2d_3 (Conv2D)           (None, 12, 12, 384)       1327488   \n",
            "                                                                 \n",
            " conv2d_4 (Conv2D)           (None, 12, 12, 256)       884992    \n",
            "                                                                 \n",
            " max_pooling2d_2 (MaxPooling  (None, 5, 5, 256)        0         \n",
            " 2D)                                                             \n",
            "                                                                 \n",
            " flatten (Flatten)           (None, 6400)              0         \n",
            "                                                                 \n",
            " dense (Dense)               (None, 4096)              26218496  \n",
            "                                                                 \n",
            " dense_1 (Dense)             (None, 4096)              16781312  \n",
            "                                                                 \n",
            " dense_2 (Dense)             (None, 1000)              4097000   \n",
            "                                                                 \n",
            " dense_3 (Dense)             (None, 4)                 4004      \n",
            "                                                                 \n",
            "=================================================================\n",
            "Total params: 50,848,012\n",
            "Trainable params: 50,848,012\n",
            "Non-trainable params: 0\n",
            "_________________________________________________________________\n"
          ]
        }
      ]
    },
    {
      "cell_type": "code",
      "source": [
        "#Defining the parameters\n",
        "batch_size= 32\n",
        "epochs=250"
      ],
      "metadata": {
        "id": "b4-aaYFtdsfF"
      },
      "execution_count": null,
      "outputs": []
    },
    {
      "cell_type": "code",
      "source": [
        "def process_image(image):\n",
        "    image=tf.image.per_image_standardization(image)\n",
        "    image=tf.image.resize(image,(H,W))\n",
        "    \n",
        "    return image"
      ],
      "metadata": {
        "id": "7E8DAmPCdzIP"
      },
      "execution_count": null,
      "outputs": []
    },
    {
      "cell_type": "code",
      "source": [
        "## to image data generator\n",
        "#dir_train='../input/alzheimers-dataset-4-class-of-images/Alzheimer_s Dataset/train'\n",
        "#dir_test='../input/alzheimers-dataset-4-class-of-images/Alzheimer_s Dataset/test'\n",
        "\n",
        "datagen_train = ImageDataGenerator(\n",
        "    preprocessing_function=process_image, # image preprocessing function\n",
        "    rotation_range=30,                       # randomly rotate images in the range\n",
        "    zoom_range=0.1,                          # Randomly zoom image\n",
        "    width_shift_range=0.1,                   # randomly shift images horizontally\n",
        "    height_shift_range=0.1,                  # randomly shift images vertically\n",
        "    horizontal_flip=True,                    # randomly flip images horizontally\n",
        "    vertical_flip=False,                     # randomly flip images vertically\n",
        ")\n",
        "\n",
        "\n",
        "datagen_train.fit(x_train)\n",
        "\n",
        "train_generator = datagen_train.flow(x_train,y_train,batch_size=batch_size)\n",
        "\n",
        "\n",
        "datagen_test = ImageDataGenerator(\n",
        "    preprocessing_function=process_image, # image preprocessing function\n",
        ")\n",
        "\n",
        "datagen_test.fit(x_test)\n",
        "\n",
        "test_generator = datagen_test.flow(x_test,y_test,batch_size=batch_size)\n",
        "\n",
        "#train_num = train_generator.samples\n",
        "#test_num = test_generator.samples"
      ],
      "metadata": {
        "id": "h-8W-pDNd3g1"
      },
      "execution_count": null,
      "outputs": []
    },
    {
      "cell_type": "code",
      "source": [
        "from keras.callbacks import ModelCheckpoint, EarlyStopping, ReduceLROnPlateau\n",
        "#checkpoint_filepath = '{epoch:02d}-{val_loss:.7f}.hdf5'\n",
        "checkpoint_filepath = '{epoch:02d}.h5'\n",
        "model_checkpoint_callback = keras.callbacks.ModelCheckpoint(\n",
        "    filepath=checkpoint_filepath,\n",
        "    save_weights_only=True,\n",
        "    monitor='val_accuracy',\n",
        "    mode='max',\n",
        "    verbose=1,\n",
        "    save_best_only=True)\n",
        "\n",
        "earlystop = EarlyStopping(monitor = 'val_accuracy', \n",
        "                          min_delta = 0, \n",
        "                          patience = 30,\n",
        "                          verbose = 1,\n",
        "                          mode='auto')\n",
        "\n",
        "reduce_lr = ReduceLROnPlateau(monitor = 'val_accuracy',\n",
        "                              factor = 0.2,\n",
        "                              patience = 30,\n",
        "                              verbose = 1,\n",
        "                              min_delta = 0.0001)\n",
        "# we put our call backs into a callback list\n",
        "callbacks = [earlystop, model_checkpoint_callback, reduce_lr]"
      ],
      "metadata": {
        "id": "CeUsh1iWeAgf"
      },
      "execution_count": null,
      "outputs": []
    },
    {
      "cell_type": "code",
      "source": [
        "import tensorflow as tf\n",
        "METRICS = [\n",
        "      tf.keras.metrics.BinaryAccuracy(name='accuracy'),\n",
        "      tf.keras.metrics.Precision(name='precision'),\n",
        "      tf.keras.metrics.Recall(name='recall'),  \n",
        "      tf.keras.metrics.AUC(name='auc')\n",
        "]"
      ],
      "metadata": {
        "id": "t73flceteJT8"
      },
      "execution_count": null,
      "outputs": []
    },
    {
      "cell_type": "code",
      "source": [
        "model.compile(optimizer=tf.keras.optimizers.Adam(learning_rate=1e-3),\n",
        "              loss=tf.keras.losses.CategoricalCrossentropy(from_logits=True),\n",
        "              metrics=METRICS)\n",
        "\n",
        "epochs = 100\n",
        "history=model.fit(datagen_train.flow(x_train,y_train, batch_size=64,shuffle=True), epochs=epochs,validation_data=datagen_test.flow(x_test,y_test, batch_size=16,shuffle=True), callbacks=callbacks )"
      ],
      "metadata": {
        "colab": {
          "base_uri": "https://localhost:8080/"
        },
        "id": "OL7THuzOePIN",
        "outputId": "9df89906-ef23-434c-8b95-e79bc32eafaa"
      },
      "execution_count": null,
      "outputs": [
        {
          "output_type": "stream",
          "name": "stdout",
          "text": [
            "Epoch 1/100\n",
            "80/80 [==============================] - ETA: 0s - loss: 5.4239 - accuracy: 0.7533 - precision: 0.5139 - recall: 0.2428 - auc: 0.7596\n",
            "Epoch 1: val_accuracy improved from -inf to 0.78127, saving model to 01.h5\n",
            "80/80 [==============================] - 85s 916ms/step - loss: 5.4239 - accuracy: 0.7533 - precision: 0.5139 - recall: 0.2428 - auc: 0.7596 - val_loss: 0.9787 - val_accuracy: 0.7813 - val_precision: 0.5978 - val_recall: 0.3823 - val_auc: 0.8158 - lr: 0.0010\n",
            "Epoch 2/100\n",
            "80/80 [==============================] - ETA: 0s - loss: 0.9635 - accuracy: 0.7875 - precision: 0.6692 - recall: 0.2969 - auc: 0.8197\n",
            "Epoch 2: val_accuracy improved from 0.78127 to 0.79261, saving model to 02.h5\n",
            "80/80 [==============================] - 71s 894ms/step - loss: 0.9635 - accuracy: 0.7875 - precision: 0.6692 - recall: 0.2969 - auc: 0.8197 - val_loss: 0.9554 - val_accuracy: 0.7926 - val_precision: 0.7309 - val_recall: 0.2697 - val_auc: 0.8282 - lr: 0.0010\n",
            "Epoch 3/100\n",
            "80/80 [==============================] - ETA: 0s - loss: 0.9622 - accuracy: 0.7882 - precision: 0.6817 - recall: 0.2867 - auc: 0.8191\n",
            "Epoch 3: val_accuracy improved from 0.79261 to 0.79378, saving model to 03.h5\n",
            "80/80 [==============================] - 72s 895ms/step - loss: 0.9622 - accuracy: 0.7882 - precision: 0.6817 - recall: 0.2867 - auc: 0.8191 - val_loss: 0.9561 - val_accuracy: 0.7938 - val_precision: 0.7393 - val_recall: 0.2705 - val_auc: 0.8265 - lr: 0.0010\n",
            "Epoch 4/100\n",
            "80/80 [==============================] - ETA: 0s - loss: 0.9657 - accuracy: 0.7869 - precision: 0.6659 - recall: 0.2965 - auc: 0.8179\n",
            "Epoch 4: val_accuracy improved from 0.79378 to 0.79633, saving model to 04.h5\n",
            "80/80 [==============================] - 71s 892ms/step - loss: 0.9657 - accuracy: 0.7869 - precision: 0.6659 - recall: 0.2965 - auc: 0.8179 - val_loss: 0.9436 - val_accuracy: 0.7963 - val_precision: 0.6720 - val_recall: 0.3620 - val_auc: 0.8271 - lr: 0.0010\n",
            "Epoch 5/100\n",
            "80/80 [==============================] - ETA: 0s - loss: 0.9287 - accuracy: 0.7950 - precision: 0.7153 - recall: 0.2991 - auc: 0.8322\n",
            "Epoch 5: val_accuracy improved from 0.79633 to 0.79789, saving model to 05.h5\n",
            "80/80 [==============================] - 72s 906ms/step - loss: 0.9287 - accuracy: 0.7950 - precision: 0.7153 - recall: 0.2991 - auc: 0.8322 - val_loss: 0.9054 - val_accuracy: 0.7979 - val_precision: 0.6998 - val_recall: 0.3354 - val_auc: 0.8391 - lr: 0.0010\n",
            "Epoch 6/100\n",
            "80/80 [==============================] - ETA: 0s - loss: 0.9283 - accuracy: 0.7953 - precision: 0.6988 - recall: 0.3184 - auc: 0.8319\n",
            "Epoch 6: val_accuracy improved from 0.79789 to 0.80063, saving model to 06.h5\n",
            "80/80 [==============================] - 71s 890ms/step - loss: 0.9283 - accuracy: 0.7953 - precision: 0.6988 - recall: 0.3184 - auc: 0.8319 - val_loss: 0.9083 - val_accuracy: 0.8006 - val_precision: 0.7169 - val_recall: 0.3346 - val_auc: 0.8381 - lr: 0.0010\n",
            "Epoch 7/100\n",
            "80/80 [==============================] - ETA: 0s - loss: 0.9320 - accuracy: 0.7963 - precision: 0.7096 - recall: 0.3133 - auc: 0.8313\n",
            "Epoch 7: val_accuracy did not improve from 0.80063\n",
            "80/80 [==============================] - 72s 895ms/step - loss: 0.9320 - accuracy: 0.7963 - precision: 0.7096 - recall: 0.3133 - auc: 0.8313 - val_loss: 0.9126 - val_accuracy: 0.7979 - val_precision: 0.6699 - val_recall: 0.3776 - val_auc: 0.8369 - lr: 0.0010\n",
            "Epoch 8/100\n",
            "80/80 [==============================] - ETA: 0s - loss: 0.9213 - accuracy: 0.7962 - precision: 0.7123 - recall: 0.3102 - auc: 0.8340\n",
            "Epoch 8: val_accuracy improved from 0.80063 to 0.80219, saving model to 08.h5\n",
            "80/80 [==============================] - 72s 899ms/step - loss: 0.9213 - accuracy: 0.7962 - precision: 0.7123 - recall: 0.3102 - auc: 0.8340 - val_loss: 0.8976 - val_accuracy: 0.8022 - val_precision: 0.7259 - val_recall: 0.3354 - val_auc: 0.8426 - lr: 0.0010\n",
            "Epoch 9/100\n",
            "80/80 [==============================] - ETA: 0s - loss: 0.8999 - accuracy: 0.7989 - precision: 0.7283 - recall: 0.3118 - auc: 0.8414\n",
            "Epoch 9: val_accuracy improved from 0.80219 to 0.80375, saving model to 09.h5\n",
            "80/80 [==============================] - 72s 900ms/step - loss: 0.8999 - accuracy: 0.7989 - precision: 0.7283 - recall: 0.3118 - auc: 0.8414 - val_loss: 0.8791 - val_accuracy: 0.8038 - val_precision: 0.7859 - val_recall: 0.2955 - val_auc: 0.8479 - lr: 0.0010\n",
            "Epoch 10/100\n",
            "80/80 [==============================] - ETA: 0s - loss: 0.9216 - accuracy: 0.7977 - precision: 0.7154 - recall: 0.3168 - auc: 0.8377\n",
            "Epoch 10: val_accuracy did not improve from 0.80375\n",
            "80/80 [==============================] - 71s 882ms/step - loss: 0.9216 - accuracy: 0.7977 - precision: 0.7154 - recall: 0.3168 - auc: 0.8377 - val_loss: 0.9097 - val_accuracy: 0.7850 - val_precision: 0.5823 - val_recall: 0.4949 - val_auc: 0.8382 - lr: 0.0010\n",
            "Epoch 11/100\n",
            "80/80 [==============================] - ETA: 0s - loss: 0.9515 - accuracy: 0.7893 - precision: 0.6772 - recall: 0.3006 - auc: 0.8241\n",
            "Epoch 11: val_accuracy did not improve from 0.80375\n",
            "80/80 [==============================] - 70s 881ms/step - loss: 0.9515 - accuracy: 0.7893 - precision: 0.6772 - recall: 0.3006 - auc: 0.8241 - val_loss: 0.9055 - val_accuracy: 0.8034 - val_precision: 0.7661 - val_recall: 0.3073 - val_auc: 0.8380 - lr: 0.0010\n",
            "Epoch 12/100\n",
            "80/80 [==============================] - ETA: 0s - loss: 0.9186 - accuracy: 0.7963 - precision: 0.7203 - recall: 0.3030 - auc: 0.8355\n",
            "Epoch 12: val_accuracy did not improve from 0.80375\n",
            "80/80 [==============================] - 71s 892ms/step - loss: 0.9186 - accuracy: 0.7963 - precision: 0.7203 - recall: 0.3030 - auc: 0.8355 - val_loss: 0.9178 - val_accuracy: 0.7971 - val_precision: 0.6729 - val_recall: 0.3667 - val_auc: 0.8368 - lr: 0.0010\n",
            "Epoch 13/100\n",
            "80/80 [==============================] - ETA: 0s - loss: 0.9075 - accuracy: 0.7985 - precision: 0.7385 - recall: 0.3002 - auc: 0.8387\n",
            "Epoch 13: val_accuracy did not improve from 0.80375\n",
            "80/80 [==============================] - 71s 885ms/step - loss: 0.9075 - accuracy: 0.7985 - precision: 0.7385 - recall: 0.3002 - auc: 0.8387 - val_loss: 0.9015 - val_accuracy: 0.8012 - val_precision: 0.8047 - val_recall: 0.2705 - val_auc: 0.8395 - lr: 0.0010\n",
            "Epoch 14/100\n",
            "80/80 [==============================] - ETA: 0s - loss: 0.9073 - accuracy: 0.7990 - precision: 0.7357 - recall: 0.3057 - auc: 0.8385\n",
            "Epoch 14: val_accuracy did not improve from 0.80375\n",
            "80/80 [==============================] - 71s 892ms/step - loss: 0.9073 - accuracy: 0.7990 - precision: 0.7357 - recall: 0.3057 - auc: 0.8385 - val_loss: 0.8832 - val_accuracy: 0.8024 - val_precision: 0.7491 - val_recall: 0.3151 - val_auc: 0.8441 - lr: 0.0010\n",
            "Epoch 15/100\n",
            "80/80 [==============================] - ETA: 0s - loss: 0.9013 - accuracy: 0.7995 - precision: 0.7259 - recall: 0.3178 - auc: 0.8402\n",
            "Epoch 15: val_accuracy did not improve from 0.80375\n",
            "80/80 [==============================] - 71s 886ms/step - loss: 0.9013 - accuracy: 0.7995 - precision: 0.7259 - recall: 0.3178 - auc: 0.8402 - val_loss: 0.8834 - val_accuracy: 0.8024 - val_precision: 0.7248 - val_recall: 0.3378 - val_auc: 0.8466 - lr: 0.0010\n",
            "Epoch 16/100\n",
            "80/80 [==============================] - ETA: 0s - loss: 0.9044 - accuracy: 0.7991 - precision: 0.7416 - recall: 0.3012 - auc: 0.8391\n",
            "Epoch 16: val_accuracy did not improve from 0.80375\n",
            "80/80 [==============================] - 70s 882ms/step - loss: 0.9044 - accuracy: 0.7991 - precision: 0.7416 - recall: 0.3012 - auc: 0.8391 - val_loss: 0.8774 - val_accuracy: 0.8026 - val_precision: 0.7832 - val_recall: 0.2909 - val_auc: 0.8458 - lr: 0.0010\n",
            "Epoch 17/100\n",
            "80/80 [==============================] - ETA: 0s - loss: 0.9011 - accuracy: 0.7983 - precision: 0.7356 - recall: 0.3018 - auc: 0.8409\n",
            "Epoch 17: val_accuracy improved from 0.80375 to 0.80414, saving model to 17.h5\n",
            "80/80 [==============================] - 72s 901ms/step - loss: 0.9011 - accuracy: 0.7983 - precision: 0.7356 - recall: 0.3018 - auc: 0.8409 - val_loss: 0.8778 - val_accuracy: 0.8041 - val_precision: 0.7904 - val_recall: 0.2948 - val_auc: 0.8448 - lr: 0.0010\n",
            "Epoch 18/100\n",
            "80/80 [==============================] - ETA: 0s - loss: 0.8858 - accuracy: 0.8008 - precision: 0.7523 - recall: 0.3028 - auc: 0.8463\n",
            "Epoch 18: val_accuracy did not improve from 0.80414\n",
            "80/80 [==============================] - 71s 885ms/step - loss: 0.8858 - accuracy: 0.8008 - precision: 0.7523 - recall: 0.3028 - auc: 0.8463 - val_loss: 0.8636 - val_accuracy: 0.8022 - val_precision: 0.7505 - val_recall: 0.3127 - val_auc: 0.8517 - lr: 0.0010\n",
            "Epoch 19/100\n",
            "80/80 [==============================] - ETA: 0s - loss: 0.9104 - accuracy: 0.7977 - precision: 0.7482 - recall: 0.2875 - auc: 0.8349\n",
            "Epoch 19: val_accuracy did not improve from 0.80414\n",
            "80/80 [==============================] - 71s 884ms/step - loss: 0.9104 - accuracy: 0.7977 - precision: 0.7482 - recall: 0.2875 - auc: 0.8349 - val_loss: 0.8822 - val_accuracy: 0.8034 - val_precision: 0.7532 - val_recall: 0.3174 - val_auc: 0.8481 - lr: 0.0010\n",
            "Epoch 20/100\n",
            "80/80 [==============================] - ETA: 0s - loss: 0.8880 - accuracy: 0.8021 - precision: 0.7501 - recall: 0.3127 - auc: 0.8456\n",
            "Epoch 20: val_accuracy improved from 0.80414 to 0.80434, saving model to 20.h5\n",
            "80/80 [==============================] - 72s 905ms/step - loss: 0.8880 - accuracy: 0.8021 - precision: 0.7501 - recall: 0.3127 - auc: 0.8456 - val_loss: 0.9069 - val_accuracy: 0.8043 - val_precision: 0.7286 - val_recall: 0.3464 - val_auc: 0.8446 - lr: 0.0010\n",
            "Epoch 21/100\n",
            "80/80 [==============================] - ETA: 0s - loss: 0.8791 - accuracy: 0.8022 - precision: 0.7499 - recall: 0.3135 - auc: 0.8480\n",
            "Epoch 21: val_accuracy did not improve from 0.80434\n",
            "80/80 [==============================] - 70s 880ms/step - loss: 0.8791 - accuracy: 0.8022 - precision: 0.7499 - recall: 0.3135 - auc: 0.8480 - val_loss: 0.8817 - val_accuracy: 0.8016 - val_precision: 0.7122 - val_recall: 0.3464 - val_auc: 0.8490 - lr: 0.0010\n",
            "Epoch 22/100\n",
            "80/80 [==============================] - ETA: 0s - loss: 0.8699 - accuracy: 0.8019 - precision: 0.7535 - recall: 0.3088 - auc: 0.8501\n",
            "Epoch 22: val_accuracy did not improve from 0.80434\n",
            "80/80 [==============================] - 70s 878ms/step - loss: 0.8699 - accuracy: 0.8019 - precision: 0.7535 - recall: 0.3088 - auc: 0.8501 - val_loss: 0.8623 - val_accuracy: 0.8022 - val_precision: 0.7697 - val_recall: 0.2979 - val_auc: 0.8508 - lr: 0.0010\n",
            "Epoch 23/100\n",
            "80/80 [==============================] - ETA: 0s - loss: 0.8750 - accuracy: 0.8006 - precision: 0.7382 - recall: 0.3135 - auc: 0.8478\n",
            "Epoch 23: val_accuracy did not improve from 0.80434\n",
            "80/80 [==============================] - 72s 901ms/step - loss: 0.8750 - accuracy: 0.8006 - precision: 0.7382 - recall: 0.3135 - auc: 0.8478 - val_loss: 0.8963 - val_accuracy: 0.8014 - val_precision: 0.6865 - val_recall: 0.3784 - val_auc: 0.8497 - lr: 0.0010\n",
            "Epoch 24/100\n",
            "80/80 [==============================] - ETA: 0s - loss: 0.8689 - accuracy: 0.7999 - precision: 0.7336 - recall: 0.3133 - auc: 0.8505\n",
            "Epoch 24: val_accuracy did not improve from 0.80434\n",
            "80/80 [==============================] - 71s 893ms/step - loss: 0.8689 - accuracy: 0.7999 - precision: 0.7336 - recall: 0.3133 - auc: 0.8505 - val_loss: 0.8591 - val_accuracy: 0.8039 - val_precision: 0.8151 - val_recall: 0.2791 - val_auc: 0.8574 - lr: 0.0010\n",
            "Epoch 25/100\n",
            "80/80 [==============================] - ETA: 0s - loss: 0.8519 - accuracy: 0.8035 - precision: 0.7623 - recall: 0.3110 - auc: 0.8569\n",
            "Epoch 25: val_accuracy did not improve from 0.80434\n",
            "80/80 [==============================] - 70s 878ms/step - loss: 0.8519 - accuracy: 0.8035 - precision: 0.7623 - recall: 0.3110 - auc: 0.8569 - val_loss: 0.8939 - val_accuracy: 0.7995 - val_precision: 0.6624 - val_recall: 0.4034 - val_auc: 0.8524 - lr: 0.0010\n",
            "Epoch 26/100\n",
            "80/80 [==============================] - ETA: 0s - loss: 0.8661 - accuracy: 0.8018 - precision: 0.7502 - recall: 0.3106 - auc: 0.8518\n",
            "Epoch 26: val_accuracy improved from 0.80434 to 0.80590, saving model to 26.h5\n",
            "80/80 [==============================] - 71s 886ms/step - loss: 0.8661 - accuracy: 0.8018 - precision: 0.7502 - recall: 0.3106 - auc: 0.8518 - val_loss: 0.8666 - val_accuracy: 0.8059 - val_precision: 0.7399 - val_recall: 0.3448 - val_auc: 0.8579 - lr: 0.0010\n",
            "Epoch 27/100\n",
            "80/80 [==============================] - ETA: 0s - loss: 0.8437 - accuracy: 0.8041 - precision: 0.7515 - recall: 0.3233 - auc: 0.8593\n",
            "Epoch 27: val_accuracy did not improve from 0.80590\n",
            "80/80 [==============================] - 71s 887ms/step - loss: 0.8437 - accuracy: 0.8041 - precision: 0.7515 - recall: 0.3233 - auc: 0.8593 - val_loss: 0.8438 - val_accuracy: 0.8038 - val_precision: 0.7236 - val_recall: 0.3479 - val_auc: 0.8579 - lr: 0.0010\n",
            "Epoch 28/100\n",
            "80/80 [==============================] - ETA: 0s - loss: 0.8552 - accuracy: 0.8012 - precision: 0.7278 - recall: 0.3272 - auc: 0.8552\n",
            "Epoch 28: val_accuracy did not improve from 0.80590\n",
            "80/80 [==============================] - 71s 884ms/step - loss: 0.8552 - accuracy: 0.8012 - precision: 0.7278 - recall: 0.3272 - auc: 0.8552 - val_loss: 0.8648 - val_accuracy: 0.8043 - val_precision: 0.6894 - val_recall: 0.3956 - val_auc: 0.8547 - lr: 0.0010\n",
            "Epoch 29/100\n",
            "80/80 [==============================] - ETA: 0s - loss: 0.8594 - accuracy: 0.8025 - precision: 0.7506 - recall: 0.3147 - auc: 0.8545\n",
            "Epoch 29: val_accuracy did not improve from 0.80590\n",
            "80/80 [==============================] - 70s 881ms/step - loss: 0.8594 - accuracy: 0.8025 - precision: 0.7506 - recall: 0.3147 - auc: 0.8545 - val_loss: 0.8366 - val_accuracy: 0.8045 - val_precision: 0.7900 - val_recall: 0.2971 - val_auc: 0.8623 - lr: 0.0010\n",
            "Epoch 30/100\n",
            "80/80 [==============================] - ETA: 0s - loss: 0.8529 - accuracy: 0.8023 - precision: 0.7317 - recall: 0.3305 - auc: 0.8564\n",
            "Epoch 30: val_accuracy did not improve from 0.80590\n",
            "80/80 [==============================] - 71s 890ms/step - loss: 0.8529 - accuracy: 0.8023 - precision: 0.7317 - recall: 0.3305 - auc: 0.8564 - val_loss: 0.8632 - val_accuracy: 0.8039 - val_precision: 0.7840 - val_recall: 0.2979 - val_auc: 0.8533 - lr: 0.0010\n",
            "Epoch 31/100\n",
            "80/80 [==============================] - ETA: 0s - loss: 0.8497 - accuracy: 0.8029 - precision: 0.7307 - recall: 0.3352 - auc: 0.8574\n",
            "Epoch 31: val_accuracy improved from 0.80590 to 0.80962, saving model to 31.h5\n",
            "80/80 [==============================] - 71s 890ms/step - loss: 0.8497 - accuracy: 0.8029 - precision: 0.7307 - recall: 0.3352 - auc: 0.8574 - val_loss: 0.8306 - val_accuracy: 0.8096 - val_precision: 0.7872 - val_recall: 0.3268 - val_auc: 0.8615 - lr: 0.0010\n",
            "Epoch 32/100\n",
            "80/80 [==============================] - ETA: 0s - loss: 0.8362 - accuracy: 0.8036 - precision: 0.7345 - recall: 0.3358 - auc: 0.8629\n",
            "Epoch 32: val_accuracy did not improve from 0.80962\n",
            "80/80 [==============================] - 70s 879ms/step - loss: 0.8362 - accuracy: 0.8036 - precision: 0.7345 - recall: 0.3358 - auc: 0.8629 - val_loss: 0.8309 - val_accuracy: 0.8039 - val_precision: 0.7117 - val_recall: 0.3628 - val_auc: 0.8607 - lr: 0.0010\n",
            "Epoch 33/100\n",
            "80/80 [==============================] - ETA: 0s - loss: 0.8455 - accuracy: 0.8055 - precision: 0.7346 - recall: 0.3473 - auc: 0.8609\n",
            "Epoch 33: val_accuracy improved from 0.80962 to 0.81001, saving model to 33.h5\n",
            "80/80 [==============================] - 73s 911ms/step - loss: 0.8455 - accuracy: 0.8055 - precision: 0.7346 - recall: 0.3473 - auc: 0.8609 - val_loss: 0.8185 - val_accuracy: 0.8100 - val_precision: 0.7395 - val_recall: 0.3706 - val_auc: 0.8662 - lr: 0.0010\n",
            "Epoch 34/100\n",
            "80/80 [==============================] - ETA: 0s - loss: 0.8484 - accuracy: 0.8033 - precision: 0.7249 - recall: 0.3436 - auc: 0.8581\n",
            "Epoch 34: val_accuracy did not improve from 0.81001\n",
            "80/80 [==============================] - 70s 882ms/step - loss: 0.8484 - accuracy: 0.8033 - precision: 0.7249 - recall: 0.3436 - auc: 0.8581 - val_loss: 0.9344 - val_accuracy: 0.7903 - val_precision: 0.6124 - val_recall: 0.4386 - val_auc: 0.8451 - lr: 0.0010\n",
            "Epoch 35/100\n",
            "80/80 [==============================] - ETA: 0s - loss: 0.8310 - accuracy: 0.8074 - precision: 0.7354 - recall: 0.3585 - auc: 0.8643\n",
            "Epoch 35: val_accuracy did not improve from 0.81001\n",
            "80/80 [==============================] - 71s 885ms/step - loss: 0.8310 - accuracy: 0.8074 - precision: 0.7354 - recall: 0.3585 - auc: 0.8643 - val_loss: 0.9021 - val_accuracy: 0.7971 - val_precision: 0.6447 - val_recall: 0.4199 - val_auc: 0.8538 - lr: 0.0010\n",
            "Epoch 36/100\n",
            "80/80 [==============================] - ETA: 0s - loss: 0.8346 - accuracy: 0.8045 - precision: 0.7210 - recall: 0.3556 - auc: 0.8630\n",
            "Epoch 36: val_accuracy did not improve from 0.81001\n",
            "80/80 [==============================] - 72s 904ms/step - loss: 0.8346 - accuracy: 0.8045 - precision: 0.7210 - recall: 0.3556 - auc: 0.8630 - val_loss: 0.8309 - val_accuracy: 0.8057 - val_precision: 0.7811 - val_recall: 0.3096 - val_auc: 0.8628 - lr: 0.0010\n",
            "Epoch 37/100\n",
            "80/80 [==============================] - ETA: 0s - loss: 0.8662 - accuracy: 0.8009 - precision: 0.7428 - recall: 0.3116 - auc: 0.8519\n",
            "Epoch 37: val_accuracy did not improve from 0.81001\n",
            "80/80 [==============================] - 71s 883ms/step - loss: 0.8662 - accuracy: 0.8009 - precision: 0.7428 - recall: 0.3116 - auc: 0.8519 - val_loss: 0.8313 - val_accuracy: 0.8063 - val_precision: 0.7780 - val_recall: 0.3151 - val_auc: 0.8652 - lr: 0.0010\n",
            "Epoch 38/100\n",
            "80/80 [==============================] - ETA: 0s - loss: 0.8475 - accuracy: 0.8021 - precision: 0.7397 - recall: 0.3215 - auc: 0.8587\n",
            "Epoch 38: val_accuracy did not improve from 0.81001\n",
            "80/80 [==============================] - 71s 884ms/step - loss: 0.8475 - accuracy: 0.8021 - precision: 0.7397 - recall: 0.3215 - auc: 0.8587 - val_loss: 0.8949 - val_accuracy: 0.8067 - val_precision: 0.7008 - val_recall: 0.3956 - val_auc: 0.8571 - lr: 0.0010\n",
            "Epoch 39/100\n",
            "80/80 [==============================] - ETA: 0s - loss: 0.8538 - accuracy: 0.8026 - precision: 0.7476 - recall: 0.3178 - auc: 0.8543\n",
            "Epoch 39: val_accuracy did not improve from 0.81001\n",
            "80/80 [==============================] - 72s 900ms/step - loss: 0.8538 - accuracy: 0.8026 - precision: 0.7476 - recall: 0.3178 - auc: 0.8543 - val_loss: 0.8249 - val_accuracy: 0.8084 - val_precision: 0.7431 - val_recall: 0.3573 - val_auc: 0.8649 - lr: 0.0010\n",
            "Epoch 40/100\n",
            "80/80 [==============================] - ETA: 0s - loss: 0.8372 - accuracy: 0.8035 - precision: 0.7497 - recall: 0.3213 - auc: 0.8615\n",
            "Epoch 40: val_accuracy did not improve from 0.81001\n",
            "80/80 [==============================] - 71s 883ms/step - loss: 0.8372 - accuracy: 0.8035 - precision: 0.7497 - recall: 0.3213 - auc: 0.8615 - val_loss: 0.8266 - val_accuracy: 0.8069 - val_precision: 0.7195 - val_recall: 0.3729 - val_auc: 0.8673 - lr: 0.0010\n",
            "Epoch 41/100\n",
            "80/80 [==============================] - ETA: 0s - loss: 0.8253 - accuracy: 0.8050 - precision: 0.7323 - recall: 0.3470 - auc: 0.8664\n",
            "Epoch 41: val_accuracy did not improve from 0.81001\n",
            "80/80 [==============================] - 71s 883ms/step - loss: 0.8253 - accuracy: 0.8050 - precision: 0.7323 - recall: 0.3470 - auc: 0.8664 - val_loss: 0.8030 - val_accuracy: 0.8084 - val_precision: 0.7763 - val_recall: 0.3284 - val_auc: 0.8710 - lr: 0.0010\n",
            "Epoch 42/100\n",
            "80/80 [==============================] - ETA: 0s - loss: 0.8185 - accuracy: 0.8057 - precision: 0.6972 - recall: 0.3939 - auc: 0.8694\n",
            "Epoch 42: val_accuracy did not improve from 0.81001\n",
            "80/80 [==============================] - 72s 904ms/step - loss: 0.8185 - accuracy: 0.8057 - precision: 0.6972 - recall: 0.3939 - auc: 0.8694 - val_loss: 0.8230 - val_accuracy: 0.8079 - val_precision: 0.6869 - val_recall: 0.4253 - val_auc: 0.8695 - lr: 0.0010\n",
            "Epoch 43/100\n",
            "80/80 [==============================] - ETA: 0s - loss: 0.8243 - accuracy: 0.8067 - precision: 0.7390 - recall: 0.3509 - auc: 0.8669\n",
            "Epoch 43: val_accuracy did not improve from 0.81001\n",
            "80/80 [==============================] - 71s 883ms/step - loss: 0.8243 - accuracy: 0.8067 - precision: 0.7390 - recall: 0.3509 - auc: 0.8669 - val_loss: 0.8487 - val_accuracy: 0.7991 - val_precision: 0.6213 - val_recall: 0.5027 - val_auc: 0.8630 - lr: 0.0010\n",
            "Epoch 44/100\n",
            "80/80 [==============================] - ETA: 0s - loss: 0.8243 - accuracy: 0.8055 - precision: 0.7211 - recall: 0.3618 - auc: 0.8663\n",
            "Epoch 44: val_accuracy did not improve from 0.81001\n",
            "80/80 [==============================] - 72s 899ms/step - loss: 0.8243 - accuracy: 0.8055 - precision: 0.7211 - recall: 0.3618 - auc: 0.8663 - val_loss: 0.8367 - val_accuracy: 0.8071 - val_precision: 0.8333 - val_recall: 0.2854 - val_auc: 0.8619 - lr: 0.0010\n",
            "Epoch 45/100\n",
            "80/80 [==============================] - ETA: 0s - loss: 0.8246 - accuracy: 0.8048 - precision: 0.7151 - recall: 0.3645 - auc: 0.8656\n",
            "Epoch 45: val_accuracy did not improve from 0.81001\n",
            "80/80 [==============================] - 73s 913ms/step - loss: 0.8246 - accuracy: 0.8048 - precision: 0.7151 - recall: 0.3645 - auc: 0.8656 - val_loss: 0.8203 - val_accuracy: 0.8100 - val_precision: 0.8040 - val_recall: 0.3174 - val_auc: 0.8658 - lr: 0.0010\n",
            "Epoch 46/100\n",
            "80/80 [==============================] - ETA: 0s - loss: 0.8215 - accuracy: 0.8052 - precision: 0.7409 - recall: 0.3393 - auc: 0.8670\n",
            "Epoch 46: val_accuracy did not improve from 0.81001\n",
            "80/80 [==============================] - 71s 884ms/step - loss: 0.8215 - accuracy: 0.8052 - precision: 0.7409 - recall: 0.3393 - auc: 0.8670 - val_loss: 0.8042 - val_accuracy: 0.8082 - val_precision: 0.7411 - val_recall: 0.3581 - val_auc: 0.8710 - lr: 0.0010\n",
            "Epoch 47/100\n",
            "80/80 [==============================] - ETA: 0s - loss: 0.8100 - accuracy: 0.8066 - precision: 0.7336 - recall: 0.3557 - auc: 0.8691\n",
            "Epoch 47: val_accuracy did not improve from 0.81001\n",
            "80/80 [==============================] - 71s 883ms/step - loss: 0.8100 - accuracy: 0.8066 - precision: 0.7336 - recall: 0.3557 - auc: 0.8691 - val_loss: 0.8433 - val_accuracy: 0.8057 - val_precision: 0.6640 - val_recall: 0.4511 - val_auc: 0.8661 - lr: 0.0010\n",
            "Epoch 48/100\n",
            "80/80 [==============================] - ETA: 0s - loss: 0.8046 - accuracy: 0.8084 - precision: 0.7160 - recall: 0.3874 - auc: 0.8724\n",
            "Epoch 48: val_accuracy improved from 0.81001 to 0.81040, saving model to 48.h5\n",
            "80/80 [==============================] - 71s 890ms/step - loss: 0.8046 - accuracy: 0.8084 - precision: 0.7160 - recall: 0.3874 - auc: 0.8724 - val_loss: 0.8093 - val_accuracy: 0.8104 - val_precision: 0.7794 - val_recall: 0.3370 - val_auc: 0.8701 - lr: 0.0010\n",
            "Epoch 49/100\n",
            "80/80 [==============================] - ETA: 0s - loss: 0.8070 - accuracy: 0.8108 - precision: 0.7305 - recall: 0.3853 - auc: 0.8730\n",
            "Epoch 49: val_accuracy did not improve from 0.81040\n",
            "80/80 [==============================] - 72s 904ms/step - loss: 0.8070 - accuracy: 0.8108 - precision: 0.7305 - recall: 0.3853 - auc: 0.8730 - val_loss: 0.8103 - val_accuracy: 0.8086 - val_precision: 0.7976 - val_recall: 0.3143 - val_auc: 0.8706 - lr: 0.0010\n",
            "Epoch 50/100\n",
            "80/80 [==============================] - ETA: 0s - loss: 0.8145 - accuracy: 0.8091 - precision: 0.7135 - recall: 0.3952 - auc: 0.8718\n",
            "Epoch 50: val_accuracy improved from 0.81040 to 0.81333, saving model to 50.h5\n",
            "80/80 [==============================] - 71s 893ms/step - loss: 0.8145 - accuracy: 0.8091 - precision: 0.7135 - recall: 0.3952 - auc: 0.8718 - val_loss: 0.7913 - val_accuracy: 0.8133 - val_precision: 0.7020 - val_recall: 0.4402 - val_auc: 0.8748 - lr: 0.0010\n",
            "Epoch 51/100\n",
            "80/80 [==============================] - ETA: 0s - loss: 0.8037 - accuracy: 0.8077 - precision: 0.7113 - recall: 0.3886 - auc: 0.8733\n",
            "Epoch 51: val_accuracy did not improve from 0.81333\n",
            "80/80 [==============================] - 70s 875ms/step - loss: 0.8037 - accuracy: 0.8077 - precision: 0.7113 - recall: 0.3886 - auc: 0.8733 - val_loss: 0.8129 - val_accuracy: 0.8079 - val_precision: 0.6783 - val_recall: 0.4402 - val_auc: 0.8702 - lr: 0.0010\n",
            "Epoch 52/100\n",
            "80/80 [==============================] - ETA: 0s - loss: 0.8004 - accuracy: 0.8099 - precision: 0.7090 - recall: 0.4062 - auc: 0.8737\n",
            "Epoch 52: val_accuracy did not improve from 0.81333\n",
            "80/80 [==============================] - 70s 876ms/step - loss: 0.8004 - accuracy: 0.8099 - precision: 0.7090 - recall: 0.4062 - auc: 0.8737 - val_loss: 0.9260 - val_accuracy: 0.7938 - val_precision: 0.6152 - val_recall: 0.4676 - val_auc: 0.8567 - lr: 0.0010\n",
            "Epoch 53/100\n",
            "80/80 [==============================] - ETA: 0s - loss: 0.7978 - accuracy: 0.8107 - precision: 0.7085 - recall: 0.4128 - auc: 0.8749\n",
            "Epoch 53: val_accuracy did not improve from 0.81333\n",
            "80/80 [==============================] - 72s 897ms/step - loss: 0.7978 - accuracy: 0.8107 - precision: 0.7085 - recall: 0.4128 - auc: 0.8749 - val_loss: 0.7978 - val_accuracy: 0.8125 - val_precision: 0.7721 - val_recall: 0.3550 - val_auc: 0.8775 - lr: 0.0010\n",
            "Epoch 54/100\n",
            "80/80 [==============================] - ETA: 0s - loss: 0.8009 - accuracy: 0.8088 - precision: 0.7167 - recall: 0.3892 - auc: 0.8739\n",
            "Epoch 54: val_accuracy improved from 0.81333 to 0.81548, saving model to 54.h5\n",
            "80/80 [==============================] - 71s 888ms/step - loss: 0.8009 - accuracy: 0.8088 - precision: 0.7167 - recall: 0.3892 - auc: 0.8739 - val_loss: 0.7862 - val_accuracy: 0.8155 - val_precision: 0.7671 - val_recall: 0.3761 - val_auc: 0.8774 - lr: 0.0010\n",
            "Epoch 55/100\n",
            "80/80 [==============================] - ETA: 0s - loss: 0.7869 - accuracy: 0.8138 - precision: 0.7199 - recall: 0.4179 - auc: 0.8792\n",
            "Epoch 55: val_accuracy improved from 0.81548 to 0.81744, saving model to 55.h5\n",
            "80/80 [==============================] - 71s 889ms/step - loss: 0.7869 - accuracy: 0.8138 - precision: 0.7199 - recall: 0.4179 - auc: 0.8792 - val_loss: 0.7770 - val_accuracy: 0.8174 - val_precision: 0.7642 - val_recall: 0.3901 - val_auc: 0.8821 - lr: 0.0010\n",
            "Epoch 56/100\n",
            "80/80 [==============================] - ETA: 0s - loss: 0.7841 - accuracy: 0.8135 - precision: 0.7064 - recall: 0.4345 - auc: 0.8790\n",
            "Epoch 56: val_accuracy did not improve from 0.81744\n",
            "80/80 [==============================] - 72s 905ms/step - loss: 0.7841 - accuracy: 0.8135 - precision: 0.7064 - recall: 0.4345 - auc: 0.8790 - val_loss: 0.7944 - val_accuracy: 0.8129 - val_precision: 0.7069 - val_recall: 0.4300 - val_auc: 0.8753 - lr: 0.0010\n",
            "Epoch 57/100\n",
            "80/80 [==============================] - ETA: 0s - loss: 0.8077 - accuracy: 0.8056 - precision: 0.7038 - recall: 0.3837 - auc: 0.8721\n",
            "Epoch 57: val_accuracy did not improve from 0.81744\n",
            "80/80 [==============================] - 70s 880ms/step - loss: 0.8077 - accuracy: 0.8056 - precision: 0.7038 - recall: 0.3837 - auc: 0.8721 - val_loss: 0.8101 - val_accuracy: 0.8102 - val_precision: 0.7163 - val_recall: 0.3987 - val_auc: 0.8684 - lr: 0.0010\n",
            "Epoch 58/100\n",
            "80/80 [==============================] - ETA: 0s - loss: 0.7880 - accuracy: 0.8121 - precision: 0.7072 - recall: 0.4236 - auc: 0.8783\n",
            "Epoch 58: val_accuracy improved from 0.81744 to 0.82193, saving model to 58.h5\n",
            "80/80 [==============================] - 71s 887ms/step - loss: 0.7880 - accuracy: 0.8121 - precision: 0.7072 - recall: 0.4236 - auc: 0.8783 - val_loss: 0.7640 - val_accuracy: 0.8219 - val_precision: 0.7434 - val_recall: 0.4394 - val_auc: 0.8861 - lr: 0.0010\n",
            "Epoch 59/100\n",
            "80/80 [==============================] - ETA: 0s - loss: 0.7775 - accuracy: 0.8150 - precision: 0.7197 - recall: 0.4261 - auc: 0.8816\n",
            "Epoch 59: val_accuracy did not improve from 0.82193\n",
            "80/80 [==============================] - 70s 881ms/step - loss: 0.7775 - accuracy: 0.8150 - precision: 0.7197 - recall: 0.4261 - auc: 0.8816 - val_loss: 0.8465 - val_accuracy: 0.8057 - val_precision: 0.6480 - val_recall: 0.4879 - val_auc: 0.8703 - lr: 0.0010\n",
            "Epoch 60/100\n",
            "80/80 [==============================] - ETA: 0s - loss: 0.7992 - accuracy: 0.8111 - precision: 0.7133 - recall: 0.4085 - auc: 0.8742\n",
            "Epoch 60: val_accuracy improved from 0.82193 to 0.82252, saving model to 60.h5\n",
            "80/80 [==============================] - 73s 916ms/step - loss: 0.7992 - accuracy: 0.8111 - precision: 0.7133 - recall: 0.4085 - auc: 0.8742 - val_loss: 0.7686 - val_accuracy: 0.8225 - val_precision: 0.7457 - val_recall: 0.4402 - val_auc: 0.8836 - lr: 0.0010\n",
            "Epoch 61/100\n",
            "80/80 [==============================] - ETA: 0s - loss: 0.7813 - accuracy: 0.8154 - precision: 0.7252 - recall: 0.4214 - auc: 0.8809\n",
            "Epoch 61: val_accuracy did not improve from 0.82252\n",
            "80/80 [==============================] - 70s 876ms/step - loss: 0.7813 - accuracy: 0.8154 - precision: 0.7252 - recall: 0.4214 - auc: 0.8809 - val_loss: 0.7735 - val_accuracy: 0.8182 - val_precision: 0.7036 - val_recall: 0.4715 - val_auc: 0.8841 - lr: 0.0010\n",
            "Epoch 62/100\n",
            "80/80 [==============================] - ETA: 0s - loss: 0.7761 - accuracy: 0.8132 - precision: 0.6918 - recall: 0.4562 - auc: 0.8818\n",
            "Epoch 62: val_accuracy did not improve from 0.82252\n",
            "80/80 [==============================] - 70s 877ms/step - loss: 0.7761 - accuracy: 0.8132 - precision: 0.6918 - recall: 0.4562 - auc: 0.8818 - val_loss: 0.7943 - val_accuracy: 0.8174 - val_precision: 0.7426 - val_recall: 0.4128 - val_auc: 0.8795 - lr: 0.0010\n",
            "Epoch 63/100\n",
            "80/80 [==============================] - ETA: 0s - loss: 0.7760 - accuracy: 0.8160 - precision: 0.7183 - recall: 0.4341 - auc: 0.8829\n",
            "Epoch 63: val_accuracy did not improve from 0.82252\n",
            "80/80 [==============================] - 70s 880ms/step - loss: 0.7760 - accuracy: 0.8160 - precision: 0.7183 - recall: 0.4341 - auc: 0.8829 - val_loss: 0.7505 - val_accuracy: 0.8215 - val_precision: 0.6951 - val_recall: 0.5098 - val_auc: 0.8889 - lr: 0.0010\n",
            "Epoch 64/100\n",
            "80/80 [==============================] - ETA: 0s - loss: 0.7720 - accuracy: 0.8194 - precision: 0.7074 - recall: 0.4734 - auc: 0.8854\n",
            "Epoch 64: val_accuracy did not improve from 0.82252\n",
            "80/80 [==============================] - 72s 899ms/step - loss: 0.7720 - accuracy: 0.8194 - precision: 0.7074 - recall: 0.4734 - auc: 0.8854 - val_loss: 0.7654 - val_accuracy: 0.8182 - val_precision: 0.6981 - val_recall: 0.4808 - val_auc: 0.8832 - lr: 0.0010\n",
            "Epoch 65/100\n",
            "80/80 [==============================] - ETA: 0s - loss: 0.7814 - accuracy: 0.8146 - precision: 0.7041 - recall: 0.4457 - auc: 0.8800\n",
            "Epoch 65: val_accuracy did not improve from 0.82252\n",
            "80/80 [==============================] - 70s 879ms/step - loss: 0.7814 - accuracy: 0.8146 - precision: 0.7041 - recall: 0.4457 - auc: 0.8800 - val_loss: 0.7665 - val_accuracy: 0.8208 - val_precision: 0.7549 - val_recall: 0.4191 - val_auc: 0.8864 - lr: 0.0010\n",
            "Epoch 66/100\n",
            "80/80 [==============================] - ETA: 0s - loss: 0.7670 - accuracy: 0.8182 - precision: 0.7125 - recall: 0.4572 - auc: 0.8855\n",
            "Epoch 66: val_accuracy did not improve from 0.82252\n",
            "80/80 [==============================] - 71s 884ms/step - loss: 0.7670 - accuracy: 0.8182 - precision: 0.7125 - recall: 0.4572 - auc: 0.8855 - val_loss: 0.7490 - val_accuracy: 0.8155 - val_precision: 0.6694 - val_recall: 0.5176 - val_auc: 0.8882 - lr: 0.0010\n",
            "Epoch 67/100\n",
            "80/80 [==============================] - ETA: 0s - loss: 0.7543 - accuracy: 0.8207 - precision: 0.6971 - recall: 0.4998 - auc: 0.8896\n",
            "Epoch 67: val_accuracy did not improve from 0.82252\n",
            "80/80 [==============================] - 71s 884ms/step - loss: 0.7543 - accuracy: 0.8207 - precision: 0.6971 - recall: 0.4998 - auc: 0.8896 - val_loss: 0.7750 - val_accuracy: 0.8065 - val_precision: 0.6396 - val_recall: 0.5176 - val_auc: 0.8791 - lr: 0.0010\n",
            "Epoch 68/100\n",
            "80/80 [==============================] - ETA: 0s - loss: 0.7656 - accuracy: 0.8167 - precision: 0.7091 - recall: 0.4521 - auc: 0.8858\n",
            "Epoch 68: val_accuracy did not improve from 0.82252\n",
            "80/80 [==============================] - 72s 906ms/step - loss: 0.7656 - accuracy: 0.8167 - precision: 0.7091 - recall: 0.4521 - auc: 0.8858 - val_loss: 0.7444 - val_accuracy: 0.8208 - val_precision: 0.6917 - val_recall: 0.5106 - val_auc: 0.8899 - lr: 0.0010\n",
            "Epoch 69/100\n",
            "80/80 [==============================] - ETA: 0s - loss: 0.7550 - accuracy: 0.8208 - precision: 0.7031 - recall: 0.4902 - auc: 0.8892\n",
            "Epoch 69: val_accuracy improved from 0.82252 to 0.82349, saving model to 69.h5\n",
            "80/80 [==============================] - 71s 886ms/step - loss: 0.7550 - accuracy: 0.8208 - precision: 0.7031 - recall: 0.4902 - auc: 0.8892 - val_loss: 0.7426 - val_accuracy: 0.8235 - val_precision: 0.6832 - val_recall: 0.5481 - val_auc: 0.8915 - lr: 0.0010\n",
            "Epoch 70/100\n",
            "80/80 [==============================] - ETA: 0s - loss: 0.7517 - accuracy: 0.8215 - precision: 0.7052 - recall: 0.4914 - auc: 0.8914\n",
            "Epoch 70: val_accuracy improved from 0.82349 to 0.82506, saving model to 70.h5\n",
            "80/80 [==============================] - 71s 891ms/step - loss: 0.7517 - accuracy: 0.8215 - precision: 0.7052 - recall: 0.4914 - auc: 0.8914 - val_loss: 0.7451 - val_accuracy: 0.8251 - val_precision: 0.6971 - val_recall: 0.5309 - val_auc: 0.8927 - lr: 0.0010\n",
            "Epoch 71/100\n",
            "80/80 [==============================] - ETA: 0s - loss: 0.7409 - accuracy: 0.8269 - precision: 0.7117 - recall: 0.5168 - auc: 0.8939\n",
            "Epoch 71: val_accuracy did not improve from 0.82506\n",
            "80/80 [==============================] - 71s 885ms/step - loss: 0.7409 - accuracy: 0.8269 - precision: 0.7117 - recall: 0.5168 - auc: 0.8939 - val_loss: 0.7865 - val_accuracy: 0.8229 - val_precision: 0.6643 - val_recall: 0.5895 - val_auc: 0.8901 - lr: 0.0010\n",
            "Epoch 72/100\n",
            "80/80 [==============================] - ETA: 0s - loss: 0.7424 - accuracy: 0.8238 - precision: 0.7025 - recall: 0.5123 - auc: 0.8931\n",
            "Epoch 72: val_accuracy did not improve from 0.82506\n",
            "80/80 [==============================] - 73s 912ms/step - loss: 0.7424 - accuracy: 0.8238 - precision: 0.7025 - recall: 0.5123 - auc: 0.8931 - val_loss: 0.7402 - val_accuracy: 0.8131 - val_precision: 0.6545 - val_recall: 0.5348 - val_auc: 0.8888 - lr: 0.0010\n",
            "Epoch 73/100\n",
            "80/80 [==============================] - ETA: 0s - loss: 0.7440 - accuracy: 0.8245 - precision: 0.7050 - recall: 0.5125 - auc: 0.8935\n",
            "Epoch 73: val_accuracy improved from 0.82506 to 0.82897, saving model to 73.h5\n",
            "80/80 [==============================] - 71s 894ms/step - loss: 0.7440 - accuracy: 0.8245 - precision: 0.7050 - recall: 0.5125 - auc: 0.8935 - val_loss: 0.7409 - val_accuracy: 0.8290 - val_precision: 0.7131 - val_recall: 0.5285 - val_auc: 0.8959 - lr: 0.0010\n",
            "Epoch 74/100\n",
            "80/80 [==============================] - ETA: 0s - loss: 0.7395 - accuracy: 0.8265 - precision: 0.7191 - recall: 0.5020 - auc: 0.8943\n",
            "Epoch 74: val_accuracy did not improve from 0.82897\n",
            "80/80 [==============================] - 71s 886ms/step - loss: 0.7395 - accuracy: 0.8265 - precision: 0.7191 - recall: 0.5020 - auc: 0.8943 - val_loss: 0.7321 - val_accuracy: 0.8276 - val_precision: 0.7165 - val_recall: 0.5137 - val_auc: 0.8976 - lr: 0.0010\n",
            "Epoch 75/100\n",
            "80/80 [==============================] - ETA: 0s - loss: 0.7260 - accuracy: 0.8276 - precision: 0.7076 - recall: 0.5289 - auc: 0.8989\n",
            "Epoch 75: val_accuracy improved from 0.82897 to 0.83229, saving model to 75.h5\n",
            "80/80 [==============================] - 72s 895ms/step - loss: 0.7260 - accuracy: 0.8276 - precision: 0.7076 - recall: 0.5289 - auc: 0.8989 - val_loss: 0.7021 - val_accuracy: 0.8323 - val_precision: 0.7074 - val_recall: 0.5614 - val_auc: 0.9025 - lr: 0.0010\n",
            "Epoch 76/100\n",
            "80/80 [==============================] - ETA: 0s - loss: 0.7216 - accuracy: 0.8287 - precision: 0.7000 - recall: 0.5508 - auc: 0.8991\n",
            "Epoch 76: val_accuracy improved from 0.83229 to 0.83327, saving model to 76.h5\n",
            "80/80 [==============================] - 73s 915ms/step - loss: 0.7216 - accuracy: 0.8287 - precision: 0.7000 - recall: 0.5508 - auc: 0.8991 - val_loss: 0.7342 - val_accuracy: 0.8333 - val_precision: 0.7143 - val_recall: 0.5551 - val_auc: 0.8965 - lr: 0.0010\n",
            "Epoch 77/100\n",
            "80/80 [==============================] - ETA: 0s - loss: 0.7308 - accuracy: 0.8296 - precision: 0.7160 - recall: 0.5278 - auc: 0.8980\n",
            "Epoch 77: val_accuracy did not improve from 0.83327\n",
            "80/80 [==============================] - 71s 885ms/step - loss: 0.7308 - accuracy: 0.8296 - precision: 0.7160 - recall: 0.5278 - auc: 0.8980 - val_loss: 0.7309 - val_accuracy: 0.8288 - val_precision: 0.7155 - val_recall: 0.5231 - val_auc: 0.8962 - lr: 0.0010\n",
            "Epoch 78/100\n",
            "80/80 [==============================] - ETA: 0s - loss: 0.7312 - accuracy: 0.8283 - precision: 0.7158 - recall: 0.5194 - auc: 0.8974\n",
            "Epoch 78: val_accuracy did not improve from 0.83327\n",
            "80/80 [==============================] - 71s 884ms/step - loss: 0.7312 - accuracy: 0.8283 - precision: 0.7158 - recall: 0.5194 - auc: 0.8974 - val_loss: 0.7303 - val_accuracy: 0.8266 - val_precision: 0.6811 - val_recall: 0.5762 - val_auc: 0.8966 - lr: 0.0010\n",
            "Epoch 79/100\n",
            "80/80 [==============================] - ETA: 0s - loss: 0.7160 - accuracy: 0.8295 - precision: 0.6990 - recall: 0.5584 - auc: 0.9005\n",
            "Epoch 79: val_accuracy did not improve from 0.83327\n",
            "80/80 [==============================] - 72s 906ms/step - loss: 0.7160 - accuracy: 0.8295 - precision: 0.6990 - recall: 0.5584 - auc: 0.9005 - val_loss: 0.7096 - val_accuracy: 0.8331 - val_precision: 0.7445 - val_recall: 0.5059 - val_auc: 0.9033 - lr: 0.0010\n",
            "Epoch 80/100\n",
            "80/80 [==============================] - ETA: 0s - loss: 0.7354 - accuracy: 0.8270 - precision: 0.7128 - recall: 0.5156 - auc: 0.8970\n",
            "Epoch 80: val_accuracy did not improve from 0.83327\n",
            "80/80 [==============================] - 71s 884ms/step - loss: 0.7354 - accuracy: 0.8270 - precision: 0.7128 - recall: 0.5156 - auc: 0.8970 - val_loss: 0.8229 - val_accuracy: 0.8217 - val_precision: 0.6655 - val_recall: 0.5770 - val_auc: 0.8840 - lr: 0.0010\n",
            "Epoch 81/100\n",
            "80/80 [==============================] - ETA: 0s - loss: 0.7324 - accuracy: 0.8291 - precision: 0.7115 - recall: 0.5323 - auc: 0.8961\n",
            "Epoch 81: val_accuracy did not improve from 0.83327\n",
            "80/80 [==============================] - 71s 882ms/step - loss: 0.7324 - accuracy: 0.8291 - precision: 0.7115 - recall: 0.5323 - auc: 0.8961 - val_loss: 0.7269 - val_accuracy: 0.8204 - val_precision: 0.6708 - val_recall: 0.5528 - val_auc: 0.8958 - lr: 0.0010\n",
            "Epoch 82/100\n",
            "80/80 [==============================] - ETA: 0s - loss: 0.7222 - accuracy: 0.8322 - precision: 0.7173 - recall: 0.5430 - auc: 0.8992\n",
            "Epoch 82: val_accuracy did not improve from 0.83327\n",
            "80/80 [==============================] - 71s 888ms/step - loss: 0.7222 - accuracy: 0.8322 - precision: 0.7173 - recall: 0.5430 - auc: 0.8992 - val_loss: 0.7035 - val_accuracy: 0.8297 - val_precision: 0.7077 - val_recall: 0.5434 - val_auc: 0.9019 - lr: 0.0010\n",
            "Epoch 83/100\n",
            "80/80 [==============================] - ETA: 0s - loss: 0.7002 - accuracy: 0.8352 - precision: 0.7290 - recall: 0.5426 - auc: 0.9057\n",
            "Epoch 83: val_accuracy improved from 0.83327 to 0.83405, saving model to 83.h5\n",
            "80/80 [==============================] - 73s 914ms/step - loss: 0.7002 - accuracy: 0.8352 - precision: 0.7290 - recall: 0.5426 - auc: 0.9057 - val_loss: 0.6842 - val_accuracy: 0.8341 - val_precision: 0.7063 - val_recall: 0.5754 - val_auc: 0.9085 - lr: 0.0010\n",
            "Epoch 84/100\n",
            "80/80 [==============================] - ETA: 0s - loss: 0.7051 - accuracy: 0.8348 - precision: 0.7242 - recall: 0.5481 - auc: 0.9052\n",
            "Epoch 84: val_accuracy did not improve from 0.83405\n",
            "80/80 [==============================] - 71s 887ms/step - loss: 0.7051 - accuracy: 0.8348 - precision: 0.7242 - recall: 0.5481 - auc: 0.9052 - val_loss: 0.6932 - val_accuracy: 0.8301 - val_precision: 0.6801 - val_recall: 0.6052 - val_auc: 0.9057 - lr: 0.0010\n",
            "Epoch 85/100\n",
            "80/80 [==============================] - ETA: 0s - loss: 0.7069 - accuracy: 0.8358 - precision: 0.7227 - recall: 0.5567 - auc: 0.9042\n",
            "Epoch 85: val_accuracy improved from 0.83405 to 0.83718, saving model to 85.h5\n",
            "80/80 [==============================] - 71s 894ms/step - loss: 0.7069 - accuracy: 0.8358 - precision: 0.7227 - recall: 0.5567 - auc: 0.9042 - val_loss: 0.7112 - val_accuracy: 0.8372 - val_precision: 0.7440 - val_recall: 0.5317 - val_auc: 0.9017 - lr: 0.0010\n",
            "Epoch 86/100\n",
            "80/80 [==============================] - ETA: 0s - loss: 0.6978 - accuracy: 0.8373 - precision: 0.7182 - recall: 0.5749 - auc: 0.9067\n",
            "Epoch 86: val_accuracy did not improve from 0.83718\n",
            "80/80 [==============================] - 71s 884ms/step - loss: 0.6978 - accuracy: 0.8373 - precision: 0.7182 - recall: 0.5749 - auc: 0.9067 - val_loss: 0.7163 - val_accuracy: 0.8352 - val_precision: 0.7639 - val_recall: 0.4934 - val_auc: 0.9024 - lr: 0.0010\n",
            "Epoch 87/100\n",
            "80/80 [==============================] - ETA: 0s - loss: 0.6866 - accuracy: 0.8420 - precision: 0.7325 - recall: 0.5797 - auc: 0.9103\n",
            "Epoch 87: val_accuracy did not improve from 0.83718\n",
            "80/80 [==============================] - 72s 904ms/step - loss: 0.6866 - accuracy: 0.8420 - precision: 0.7325 - recall: 0.5797 - auc: 0.9103 - val_loss: 0.7757 - val_accuracy: 0.8342 - val_precision: 0.6785 - val_recall: 0.6403 - val_auc: 0.9020 - lr: 0.0010\n",
            "Epoch 88/100\n",
            "80/80 [==============================] - ETA: 0s - loss: 0.7114 - accuracy: 0.8367 - precision: 0.7138 - recall: 0.5792 - auc: 0.9037\n",
            "Epoch 88: val_accuracy improved from 0.83718 to 0.84832, saving model to 88.h5\n",
            "80/80 [==============================] - 71s 892ms/step - loss: 0.7114 - accuracy: 0.8367 - precision: 0.7138 - recall: 0.5792 - auc: 0.9037 - val_loss: 0.6713 - val_accuracy: 0.8483 - val_precision: 0.7301 - val_recall: 0.6239 - val_auc: 0.9148 - lr: 0.0010\n",
            "Epoch 89/100\n",
            "80/80 [==============================] - ETA: 0s - loss: 0.6738 - accuracy: 0.8440 - precision: 0.7324 - recall: 0.5923 - auc: 0.9138\n",
            "Epoch 89: val_accuracy did not improve from 0.84832\n",
            "80/80 [==============================] - 71s 885ms/step - loss: 0.6738 - accuracy: 0.8440 - precision: 0.7324 - recall: 0.5923 - auc: 0.9138 - val_loss: 0.6734 - val_accuracy: 0.8475 - val_precision: 0.7242 - val_recall: 0.6302 - val_auc: 0.9147 - lr: 0.0010\n",
            "Epoch 90/100\n",
            "80/80 [==============================] - ETA: 0s - loss: 0.6982 - accuracy: 0.8423 - precision: 0.7278 - recall: 0.5899 - auc: 0.9092\n",
            "Epoch 90: val_accuracy did not improve from 0.84832\n",
            "80/80 [==============================] - 72s 907ms/step - loss: 0.6982 - accuracy: 0.8423 - precision: 0.7278 - recall: 0.5899 - auc: 0.9092 - val_loss: 0.7016 - val_accuracy: 0.8337 - val_precision: 0.7709 - val_recall: 0.4762 - val_auc: 0.9069 - lr: 0.0010\n",
            "Epoch 91/100\n",
            "80/80 [==============================] - ETA: 0s - loss: 0.6891 - accuracy: 0.8411 - precision: 0.7260 - recall: 0.5856 - auc: 0.9097\n",
            "Epoch 91: val_accuracy did not improve from 0.84832\n",
            "80/80 [==============================] - 71s 883ms/step - loss: 0.6891 - accuracy: 0.8411 - precision: 0.7260 - recall: 0.5856 - auc: 0.9097 - val_loss: 0.6763 - val_accuracy: 0.8385 - val_precision: 0.6964 - val_recall: 0.6278 - val_auc: 0.9112 - lr: 0.0010\n",
            "Epoch 92/100\n",
            "80/80 [==============================] - ETA: 0s - loss: 0.6778 - accuracy: 0.8413 - precision: 0.7223 - recall: 0.5932 - auc: 0.9121\n",
            "Epoch 92: val_accuracy did not improve from 0.84832\n",
            "80/80 [==============================] - 70s 881ms/step - loss: 0.6778 - accuracy: 0.8413 - precision: 0.7223 - recall: 0.5932 - auc: 0.9121 - val_loss: 0.6755 - val_accuracy: 0.8346 - val_precision: 0.6839 - val_recall: 0.6294 - val_auc: 0.9105 - lr: 0.0010\n",
            "Epoch 93/100\n",
            "80/80 [==============================] - ETA: 0s - loss: 0.6702 - accuracy: 0.8462 - precision: 0.7307 - recall: 0.6095 - auc: 0.9145\n",
            "Epoch 93: val_accuracy did not improve from 0.84832\n",
            "80/80 [==============================] - 71s 884ms/step - loss: 0.6702 - accuracy: 0.8462 - precision: 0.7307 - recall: 0.6095 - auc: 0.9145 - val_loss: 0.6631 - val_accuracy: 0.8466 - val_precision: 0.7245 - val_recall: 0.6231 - val_auc: 0.9162 - lr: 0.0010\n",
            "Epoch 94/100\n",
            "80/80 [==============================] - ETA: 0s - loss: 0.6884 - accuracy: 0.8427 - precision: 0.7337 - recall: 0.5821 - auc: 0.9119\n",
            "Epoch 94: val_accuracy did not improve from 0.84832\n",
            "80/80 [==============================] - 72s 903ms/step - loss: 0.6884 - accuracy: 0.8427 - precision: 0.7337 - recall: 0.5821 - auc: 0.9119 - val_loss: 0.6898 - val_accuracy: 0.8382 - val_precision: 0.7337 - val_recall: 0.5536 - val_auc: 0.9112 - lr: 0.0010\n",
            "Epoch 95/100\n",
            "80/80 [==============================] - ETA: 0s - loss: 0.6722 - accuracy: 0.8428 - precision: 0.7242 - recall: 0.5995 - auc: 0.9141\n",
            "Epoch 95: val_accuracy did not improve from 0.84832\n",
            "80/80 [==============================] - 71s 882ms/step - loss: 0.6722 - accuracy: 0.8428 - precision: 0.7242 - recall: 0.5995 - auc: 0.9141 - val_loss: 0.6494 - val_accuracy: 0.8473 - val_precision: 0.7268 - val_recall: 0.6239 - val_auc: 0.9192 - lr: 0.0010\n",
            "Epoch 96/100\n",
            "80/80 [==============================] - ETA: 0s - loss: 0.6620 - accuracy: 0.8473 - precision: 0.7335 - recall: 0.6112 - auc: 0.9172\n",
            "Epoch 96: val_accuracy improved from 0.84832 to 0.85340, saving model to 96.h5\n",
            "80/80 [==============================] - 71s 886ms/step - loss: 0.6620 - accuracy: 0.8473 - precision: 0.7335 - recall: 0.6112 - auc: 0.9172 - val_loss: 0.6269 - val_accuracy: 0.8534 - val_precision: 0.7669 - val_recall: 0.5942 - val_auc: 0.9254 - lr: 0.0010\n",
            "Epoch 97/100\n",
            "80/80 [==============================] - ETA: 0s - loss: 0.6723 - accuracy: 0.8449 - precision: 0.7275 - recall: 0.6069 - auc: 0.9144\n",
            "Epoch 97: val_accuracy did not improve from 0.85340\n",
            "80/80 [==============================] - 71s 891ms/step - loss: 0.6723 - accuracy: 0.8449 - precision: 0.7275 - recall: 0.6069 - auc: 0.9144 - val_loss: 0.6972 - val_accuracy: 0.8356 - val_precision: 0.7090 - val_recall: 0.5809 - val_auc: 0.9051 - lr: 0.0010\n",
            "Epoch 98/100\n",
            "80/80 [==============================] - ETA: 0s - loss: 0.6719 - accuracy: 0.8445 - precision: 0.7376 - recall: 0.5868 - auc: 0.9144\n",
            "Epoch 98: val_accuracy did not improve from 0.85340\n",
            "80/80 [==============================] - 70s 879ms/step - loss: 0.6719 - accuracy: 0.8445 - precision: 0.7376 - recall: 0.5868 - auc: 0.9144 - val_loss: 0.6526 - val_accuracy: 0.8507 - val_precision: 0.7386 - val_recall: 0.6231 - val_auc: 0.9194 - lr: 0.0010\n",
            "Epoch 99/100\n",
            "80/80 [==============================] - ETA: 0s - loss: 0.6644 - accuracy: 0.8486 - precision: 0.7394 - recall: 0.6089 - auc: 0.9170\n",
            "Epoch 99: val_accuracy did not improve from 0.85340\n",
            "80/80 [==============================] - 71s 884ms/step - loss: 0.6644 - accuracy: 0.8486 - precision: 0.7394 - recall: 0.6089 - auc: 0.9170 - val_loss: 0.6469 - val_accuracy: 0.8470 - val_precision: 0.7105 - val_recall: 0.6544 - val_auc: 0.9183 - lr: 0.0010\n",
            "Epoch 100/100\n",
            "80/80 [==============================] - ETA: 0s - loss: 0.6546 - accuracy: 0.8500 - precision: 0.7409 - recall: 0.6153 - auc: 0.9195\n",
            "Epoch 100: val_accuracy did not improve from 0.85340\n",
            "80/80 [==============================] - 71s 893ms/step - loss: 0.6546 - accuracy: 0.8500 - precision: 0.7409 - recall: 0.6153 - auc: 0.9195 - val_loss: 0.6256 - val_accuracy: 0.8481 - val_precision: 0.7377 - val_recall: 0.6091 - val_auc: 0.9239 - lr: 0.0010\n"
          ]
        }
      ]
    },
    {
      "cell_type": "code",
      "source": [
        "#%% PLOTTING RESULTS (Train vs Validation FOLDER 1)\n",
        "\n",
        "def Train_Val_Plot(acc,val_acc,loss,val_loss,auc,val_auc,precision,val_precision):\n",
        "    \n",
        "    fig, (ax1, ax2,ax3,ax4,ax5) = plt.subplots(1,5, figsize= (20,5))\n",
        "    fig.suptitle(\" MODEL'S METRICS VISUALIZATION \")\n",
        "\n",
        "    ax1.plot(range(1, len(acc) + 1), acc)\n",
        "    ax1.plot(range(1, len(val_acc) + 1), val_acc)\n",
        "    ax1.set_title('History of Accuracy')\n",
        "    ax1.set_xlabel('Epochs')\n",
        "    ax1.set_ylabel('Accuracy')\n",
        "    ax1.legend(['training', 'validation'])\n",
        "\n",
        "\n",
        "    ax2.plot(range(1, len(loss) + 1), loss)\n",
        "    ax2.plot(range(1, len(val_loss) + 1), val_loss)\n",
        "    ax2.set_title('History of Loss')\n",
        "    ax2.set_xlabel('Epochs')\n",
        "    ax2.set_ylabel('Loss')\n",
        "    ax2.legend(['training', 'validation'])\n",
        "    \n",
        "    ax3.plot(range(1, len(auc) + 1), auc)\n",
        "    ax3.plot(range(1, len(val_auc) + 1), val_auc)\n",
        "    ax3.set_title('History of AUC')\n",
        "    ax3.set_xlabel('Epochs')\n",
        "    ax3.set_ylabel('AUC')\n",
        "    ax3.legend(['training', 'validation'])\n",
        "    \n",
        "    ax4.plot(range(1, len(precision) + 1), precision)\n",
        "    ax4.plot(range(1, len(val_precision) + 1), val_precision)\n",
        "    ax4.set_title('History of Precision')\n",
        "    ax4.set_xlabel('Epochs')\n",
        "    ax4.set_ylabel('Precision')\n",
        "    ax4.legend(['training', 'validation'])\n",
        "    \n",
        "\n",
        "    plt.show()\n",
        "    \n",
        "\n",
        "Train_Val_Plot(history.history['accuracy'],history.history['val_accuracy'],\n",
        "               history.history['loss'],history.history['val_loss'],\n",
        "               history.history['auc'],history.history['val_auc'],\n",
        "               history.history['precision'],history.history['val_precision'])  \n"
      ],
      "metadata": {
        "colab": {
          "base_uri": "https://localhost:8080/",
          "height": 363
        },
        "id": "XLHxTErxehyD",
        "outputId": "759c3e1a-c310-418b-9e91-534a82ad5424"
      },
      "execution_count": null,
      "outputs": [
        {
          "output_type": "display_data",
          "data": {
            "text/plain": [
              "<Figure size 1440x360 with 5 Axes>"
            ],
            "image/png": "[encoded data removed]"
          },
          "metadata": {
            "needs_background": "light"
          }
        }
      ]
    },
    {
      "cell_type": "code",
      "source": [
        "## plot confusion matrix\n",
        "y_preds = model.predict(x_test)\n",
        "y_preds = np.argmax(y_preds, axis=1)\n",
        "y_trues = np.argmax(y_test, axis=1)\n",
        "cm = confusion_matrix(y_trues, y_preds)\n",
        "\n",
        "fig, ax = plt.subplots(figsize=(7, 6))\n",
        "\n",
        "sns.heatmap(cm, annot=True, fmt='d', cmap='Blues', cbar_kws={'shrink': .3}, linewidths=.1, ax=ax)\n",
        "\n",
        "ax.set(\n",
        "    xticklabels=list(label_to_class.keys()),\n",
        "    yticklabels=list(label_to_class.keys()),\n",
        "    title='confusion matrix',\n",
        "    ylabel='True label',\n",
        "    xlabel='Predicted label'\n",
        ")\n",
        "params = dict(rotation=45, ha='center', rotation_mode='anchor')\n",
        "plt.setp(ax.get_yticklabels(), **params)\n",
        "plt.setp(ax.get_xticklabels(), **params)\n",
        "plt.show()"
      ],
      "metadata": {
        "colab": {
          "base_uri": "https://localhost:8080/",
          "height": 436
        },
        "id": "oOqm5qlnerP_",
        "outputId": "b51590ad-75ec-4cd4-f351-8fbaf18061a4"
      },
      "execution_count": null,
      "outputs": [
        {
          "output_type": "display_data",
          "data": {
            "text/plain": [
              "<Figure size 504x432 with 2 Axes>"
            ],
            "image/png": "[encoded data removed]"
          },
          "metadata": {
            "needs_background": "light"
          }
        }
      ]
    },
    {
      "cell_type": "code",
      "source": [
        "print(\"F1 Score (testing): %.2f%%\"% (f1_score(y_trues, y_preds, average='weighted')*100.0))"
      ],
      "metadata": {
        "colab": {
          "base_uri": "https://localhost:8080/"
        },
        "id": "mOGtQTLxewGg",
        "outputId": "ff6055ad-4c7e-4c15-e580-ee32ee1b1f03"
      },
      "execution_count": null,
      "outputs": [
        {
          "output_type": "stream",
          "name": "stdout",
          "text": [
            "F1 Score (testing): 33.81%\n"
          ]
        }
      ]
    },
    {
      "cell_type": "code",
      "source": [
        "print(\"accuracy (testing): %.2f%%\"% (accuracy_score(y_trues, y_preds)*100.0))"
      ],
      "metadata": {
        "colab": {
          "base_uri": "https://localhost:8080/"
        },
        "id": "Y948Zyfge0pg",
        "outputId": "a36fdf40-45db-4ad8-b4e4-ede30a268e1b"
      },
      "execution_count": null,
      "outputs": [
        {
          "output_type": "stream",
          "name": "stdout",
          "text": [
            "accuracy (testing): 50.43%\n"
          ]
        }
      ]
    },
    {
      "cell_type": "code",
      "source": [
        "report = classification_report(y_trues, y_preds)\n",
        "print(report)"
      ],
      "metadata": {
        "colab": {
          "base_uri": "https://localhost:8080/"
        },
        "id": "G0GBgmzHe4Zb",
        "outputId": "4fd12618-da66-4ce8-d2e4-36ca3cf4053d"
      },
      "execution_count": null,
      "outputs": [
        {
          "output_type": "stream",
          "name": "stdout",
          "text": [
            "              precision    recall  f1-score   support\n",
            "\n",
            "           0       0.00      0.00      0.00       184\n",
            "           1       0.00      0.00      0.00        10\n",
            "           2       0.50      1.00      0.67       645\n",
            "           3       0.00      0.00      0.00       440\n",
            "\n",
            "    accuracy                           0.50      1279\n",
            "   macro avg       0.13      0.25      0.17      1279\n",
            "weighted avg       0.25      0.50      0.34      1279\n",
            "\n"
          ]
        }
      ]
    },
    {
      "cell_type": "code",
      "source": [
        "model.save('alexnet.hdf5')"
      ],
      "metadata": {
        "id": "5P9AnKfYdkNg"
      },
      "execution_count": null,
      "outputs": []
    }
  ]
}